{
 "metadata": {
  "name": ""
 },
 "nbformat": 3,
 "nbformat_minor": 0,
 "worksheets": [
  {
   "cells": [
    {
     "cell_type": "heading",
     "level": 1,
     "metadata": {},
     "source": [
      "Mec\u00e1nica con SymPy - Aeromec\u00e1nica de un rotor"
     ]
    },
    {
     "cell_type": "markdown",
     "metadata": {},
     "source": [
      "* **Helic\u00f3pteros y Aeronaves Diversas I**\n",
      "* **\u00daltima revisi\u00f3n**: 2014-03-03\n",
      "* **Autor**: Juan Luis Cano <jl.cano@alumnos.upm.es>"
     ]
    },
    {
     "cell_type": "heading",
     "level": 2,
     "metadata": {},
     "source": [
      "Introducci\u00f3n"
     ]
    },
    {
     "cell_type": "markdown",
     "metadata": {},
     "source": [
      "Cinem\u00e1tica de la pala de un rotor:\n",
      "\n",
      "* **Azimut**: $\\psi$ alrededor de $z_{A}$ en el acoplamiento $A$.\n",
      "* **Batimiento**: $\\beta$ alrededor de $-y_{A1}$ en el acoplamiento $E_b$, situado a distancia $e_b$ de $A$.\n",
      "* **Arrastre**: $\\zeta$ alrededor de $z_{A2}$ en el acoplamiento $E_a$, situado a distancia $e_a - e_b$ de $E_b$.\n",
      "* **Paso**: $\\theta$ alrededor de $x_{A3}$, que coincide con la l\u00ednea $c / 4$ de la pala.\n",
      "\n",
      "Vamos a considerar ese orden para los movimientos aunque no tiene porqu\u00e9 ser el caso siempre."
     ]
    },
    {
     "cell_type": "code",
     "collapsed": false,
     "input": [
      "from sympy import init_session\n",
      "init_session(use_latex=True, quiet=True)"
     ],
     "language": "python",
     "metadata": {},
     "outputs": [
      {
       "output_type": "stream",
       "stream": "stdout",
       "text": [
        "IPython console for SymPy 0.7.5 (Python 3.4.0-64-bit) (ground types: python)\n"
       ]
      },
      {
       "output_type": "stream",
       "stream": "stderr",
       "text": [
        "WARNING: Hook shutdown_hook is deprecated. Use the atexit module instead.\n"
       ]
      }
     ],
     "prompt_number": 1
    },
    {
     "cell_type": "heading",
     "level": 3,
     "metadata": {},
     "source": [
      "Datos iniciales"
     ]
    },
    {
     "cell_type": "markdown",
     "metadata": {},
     "source": [
      "Algunas variables:"
     ]
    },
    {
     "cell_type": "code",
     "collapsed": false,
     "input": [
      "M_b = Symbol('M_b')  # Masa de la pala\n",
      "g = Symbol('g')  # Gravedad\n",
      "e = Symbol('e')  # Excentricidad de batimiento"
     ],
     "language": "python",
     "metadata": {},
     "outputs": [],
     "prompt_number": 2
    },
    {
     "cell_type": "heading",
     "level": 2,
     "metadata": {},
     "source": [
      "Sistemas de referencia"
     ]
    },
    {
     "cell_type": "code",
     "collapsed": false,
     "input": [
      "from sympy.physics.mechanics import ReferenceFrame, Point, dynamicsymbols"
     ],
     "language": "python",
     "metadata": {},
     "outputs": [],
     "prompt_number": 3
    },
    {
     "cell_type": "code",
     "collapsed": false,
     "input": [
      "# Definimos nuestra propia clase para que los versores sean IJK\n",
      "class IJKReferenceFrame(ReferenceFrame):\n",
      "    def __init__(self, name):\n",
      "        super().__init__(name, latexs=['\\mathbf{%s}_{%s}' % (idx, name) for idx in (\"i\", \"j\", \"k\")])"
     ],
     "language": "python",
     "metadata": {},
     "outputs": [],
     "prompt_number": 4
    },
    {
     "cell_type": "markdown",
     "metadata": {},
     "source": [
      "Sistema de referencia \u00e1rbol:"
     ]
    },
    {
     "cell_type": "code",
     "collapsed": false,
     "input": [
      "A = IJKReferenceFrame(\"A\")"
     ],
     "language": "python",
     "metadata": {},
     "outputs": [],
     "prompt_number": 5
    },
    {
     "cell_type": "code",
     "collapsed": false,
     "input": [
      "# Definimos la velocidad de giro del rotor principal $\\Omega$:\n",
      "Omega = Symbol('Omega')\n",
      "Omega"
     ],
     "language": "python",
     "metadata": {},
     "outputs": [
      {
       "latex": [
        "$$\\Omega$$"
       ],
       "metadata": {},
       "output_type": "pyout",
       "png": "[encoded data removed]",
       "prompt_number": 6,
       "text": [
        "\u03a9"
       ]
      }
     ],
     "prompt_number": 6
    },
    {
     "cell_type": "markdown",
     "metadata": {},
     "source": [
      "Vamos introduciendo sistemas de referencia y sus or\u00edgenes:"
     ]
    },
    {
     "cell_type": "code",
     "collapsed": false,
     "input": [
      "A1 = IJKReferenceFrame(\"A1\")\n",
      "psi = dynamicsymbols('psi')\n",
      "A1.orient(A, 'Axis', [psi, A.z])\n",
      "A1.dcm(A)  # T_{A1A}"
     ],
     "language": "python",
     "metadata": {},
     "outputs": [
      {
       "latex": [
        "$$\\left[\\begin{matrix}\\cos{\\left (\\psi{\\left (t \\right )} \\right )} & \\sin{\\left (\\psi{\\left (t \\right )} \\right )} & 0\\\\- \\sin{\\left (\\psi{\\left (t \\right )} \\right )} & \\cos{\\left (\\psi{\\left (t \\right )} \\right )} & 0\\\\0 & 0 & 1\\end{matrix}\\right]$$"
       ],
       "metadata": {},
       "output_type": "pyout",
       "png": "[encoded data removed]",
       "prompt_number": 7,
       "text": [
        "\u23a1cos(\u03c8(t))   sin(\u03c8(t))  0\u23a4\n",
        "\u23a2                        \u23a5\n",
        "\u23a2-sin(\u03c8(t))  cos(\u03c8(t))  0\u23a5\n",
        "\u23a2                        \u23a5\n",
        "\u23a3    0           0      1\u23a6"
       ]
      }
     ],
     "prompt_number": 7
    },
    {
     "cell_type": "code",
     "collapsed": false,
     "input": [
      "T_a, T_k, T_h = dynamicsymbols('T_a, T_k, T_h')\n",
      "T_a"
     ],
     "language": "python",
     "metadata": {},
     "outputs": [
      {
       "latex": [
        "$$\\operatorname{T_{a}}{\\left (t \\right )}$$"
       ],
       "metadata": {},
       "output_type": "pyout",
       "png": "[encoded data removed]",
       "prompt_number": 8,
       "text": [
        "T\u2090(t)"
       ]
      }
     ],
     "prompt_number": 8
    },
    {
     "cell_type": "code",
     "collapsed": false,
     "input": [
      "t = symbols('t')\n",
      "omega1, omega2, omega3 = dynamicsymbols('omega1, omega2, omega3')\n",
      "theta1, theta2, theta3 = dynamicsymbols('theta1, theta2, theta3')\n",
      "eqs = [omega1 - theta1.diff(t), omega2 - theta2.diff(t), omega3 - theta3.diff(t)]\n",
      "eqs"
     ],
     "language": "python",
     "metadata": {},
     "outputs": [
      {
       "latex": [
        "$$\\begin{bmatrix}\\omega_{1}{\\left (t \\right )} - \\frac{d}{d t} \\theta_{1}{\\left (t \\right )}, & \\omega_{2}{\\left (t \\right )} - \\frac{d}{d t} \\theta_{2}{\\left (t \\right )}, & \\omega_{3}{\\left (t \\right )} - \\frac{d}{d t} \\theta_{3}{\\left (t \\right )}\\end{bmatrix}$$"
       ],
       "metadata": {},
       "output_type": "pyout",
       "png": "[encoded data removed]",
       "prompt_number": 9,
       "text": [
        "\u23a1        d                  d                  d        \u23a4\n",
        "\u23a2\u03c9\u2081(t) - \u2500\u2500(\u03b8\u2081(t)), \u03c9\u2082(t) - \u2500\u2500(\u03b8\u2082(t)), \u03c9\u2083(t) - \u2500\u2500(\u03b8\u2083(t))\u23a5\n",
        "\u23a3        dt                 dt                 dt       \u23a6"
       ]
      }
     ],
     "prompt_number": 9
    },
    {
     "cell_type": "code",
     "collapsed": false,
     "input": [
      "psi.diff() * A.z"
     ],
     "language": "python",
     "metadata": {},
     "outputs": [
      {
       "latex": [
        "$$\\dot{\\psi}\\mathbf{k}_{A}$$"
       ],
       "metadata": {},
       "output_type": "pyout",
       "png": "[encoded data removed]",
       "prompt_number": 10,
       "text": [
        "\u03c8\u0307 \u001b[94m\u001b[1ma_z\u001b[0;0m\u001b[0;0m"
       ]
      }
     ],
     "prompt_number": 10
    },
    {
     "cell_type": "code",
     "collapsed": false,
     "input": [
      "A1.ang_vel_in(A)"
     ],
     "language": "python",
     "metadata": {},
     "outputs": [
      {
       "latex": [
        "$$\\dot{\\psi}\\mathbf{k}_{A}$$"
       ],
       "metadata": {},
       "output_type": "pyout",
       "png": "[encoded data removed]",
       "prompt_number": 11,
       "text": [
        "\u03c8\u0307 \u001b[94m\u001b[1ma_z\u001b[0;0m\u001b[0;0m"
       ]
      }
     ],
     "prompt_number": 11
    },
    {
     "cell_type": "code",
     "collapsed": false,
     "input": [
      "A2 = IJKReferenceFrame(\"A2\")\n",
      "beta = dynamicsymbols('beta')\n",
      "A2.orient(A1, 'Axis', [beta, -A1.y])\n",
      "A2.dcm(A1)  # T_{A2A1}"
     ],
     "language": "python",
     "metadata": {},
     "outputs": [
      {
       "latex": [
        "$$\\left[\\begin{matrix}\\cos{\\left (\\beta{\\left (t \\right )} \\right )} & 0 & \\sin{\\left (\\beta{\\left (t \\right )} \\right )}\\\\0 & 1 & 0\\\\- \\sin{\\left (\\beta{\\left (t \\right )} \\right )} & 0 & \\cos{\\left (\\beta{\\left (t \\right )} \\right )}\\end{matrix}\\right]$$"
       ],
       "metadata": {},
       "output_type": "pyout",
       "png": "[encoded data removed]",
       "prompt_number": 12,
       "text": [
        "\u23a1cos(\u03b2(t))   0  sin(\u03b2(t))\u23a4\n",
        "\u23a2                        \u23a5\n",
        "\u23a2    0       1      0    \u23a5\n",
        "\u23a2                        \u23a5\n",
        "\u23a3-sin(\u03b2(t))  0  cos(\u03b2(t))\u23a6"
       ]
      }
     ],
     "prompt_number": 12
    },
    {
     "cell_type": "code",
     "collapsed": false,
     "input": [
      "A2.ang_vel_in(A1)"
     ],
     "language": "python",
     "metadata": {},
     "outputs": [
      {
       "latex": [
        "$$-  \\dot{\\beta}\\mathbf{j}_{A1}$$"
       ],
       "metadata": {},
       "output_type": "pyout",
       "png": "[encoded data removed]",
       "prompt_number": 13,
       "text": [
        "- \u03b2\u0307 \u001b[94m\u001b[1ma1_y\u001b[0;0m\u001b[0;0m"
       ]
      }
     ],
     "prompt_number": 13
    },
    {
     "cell_type": "code",
     "collapsed": false,
     "input": [
      "A2.dcm(A)  # T_{A2A}"
     ],
     "language": "python",
     "metadata": {},
     "outputs": [
      {
       "latex": [
        "$$\\left[\\begin{matrix}\\cos{\\left (\\beta{\\left (t \\right )} \\right )} \\cos{\\left (\\psi{\\left (t \\right )} \\right )} & \\sin{\\left (\\psi{\\left (t \\right )} \\right )} \\cos{\\left (\\beta{\\left (t \\right )} \\right )} & \\sin{\\left (\\beta{\\left (t \\right )} \\right )}\\\\- \\sin{\\left (\\psi{\\left (t \\right )} \\right )} & \\cos{\\left (\\psi{\\left (t \\right )} \\right )} & 0\\\\- \\sin{\\left (\\beta{\\left (t \\right )} \\right )} \\cos{\\left (\\psi{\\left (t \\right )} \\right )} & - \\sin{\\left (\\beta{\\left (t \\right )} \\right )} \\sin{\\left (\\psi{\\left (t \\right )} \\right )} & \\cos{\\left (\\beta{\\left (t \\right )} \\right )}\\end{matrix}\\right]$$"
       ],
       "metadata": {},
       "output_type": "pyout",
       "png": "[encoded data removed]",
       "prompt_number": 14,
       "text": [
        "\u23a1cos(\u03b2(t))\u22c5cos(\u03c8(t))   sin(\u03c8(t))\u22c5cos(\u03b2(t))   sin(\u03b2(t))\u23a4\n",
        "\u23a2                                                     \u23a5\n",
        "\u23a2     -sin(\u03c8(t))            cos(\u03c8(t))            0    \u23a5\n",
        "\u23a2                                                     \u23a5\n",
        "\u23a3-sin(\u03b2(t))\u22c5cos(\u03c8(t))  -sin(\u03b2(t))\u22c5sin(\u03c8(t))  cos(\u03b2(t))\u23a6"
       ]
      }
     ],
     "prompt_number": 14
    },
    {
     "cell_type": "code",
     "collapsed": false,
     "input": [
      "A2.ang_vel_in(A)"
     ],
     "language": "python",
     "metadata": {},
     "outputs": [
      {
       "latex": [
        "$$-  \\dot{\\beta}\\mathbf{j}_{A1} + \\dot{\\psi}\\mathbf{k}_{A}$$"
       ],
       "metadata": {},
       "output_type": "pyout",
       "png": "[encoded data removed]",
       "prompt_number": 15,
       "text": [
        "- \u03b2\u0307 \u001b[94m\u001b[1ma1_y\u001b[0;0m\u001b[0;0m + \u03c8\u0307 \u001b[94m\u001b[1ma_z\u001b[0;0m\u001b[0;0m"
       ]
      }
     ],
     "prompt_number": 15
    },
    {
     "cell_type": "code",
     "collapsed": false,
     "input": [
      "A3 = IJKReferenceFrame(\"A3\")\n",
      "zeta = dynamicsymbols('zeta')\n",
      "A3.orient(A2, 'Axis', [zeta, A2.z])\n",
      "A3.dcm(A2)  # T_{A3A2}"
     ],
     "language": "python",
     "metadata": {},
     "outputs": [
      {
       "latex": [
        "$$\\left[\\begin{matrix}\\cos{\\left (\\zeta\\left(t\\right) \\right )} & \\sin{\\left (\\zeta\\left(t\\right) \\right )} & 0\\\\- \\sin{\\left (\\zeta\\left(t\\right) \\right )} & \\cos{\\left (\\zeta\\left(t\\right) \\right )} & 0\\\\0 & 0 & 1\\end{matrix}\\right]$$"
       ],
       "metadata": {},
       "output_type": "pyout",
       "png": "[encoded data removed]",
       "prompt_number": 16,
       "text": [
        "\u23a1cos(\u03b6(t))   sin(\u03b6(t))  0\u23a4\n",
        "\u23a2                        \u23a5\n",
        "\u23a2-sin(\u03b6(t))  cos(\u03b6(t))  0\u23a5\n",
        "\u23a2                        \u23a5\n",
        "\u23a3    0           0      1\u23a6"
       ]
      }
     ],
     "prompt_number": 16
    },
    {
     "cell_type": "code",
     "collapsed": false,
     "input": [
      "A3.dcm(A1)  # T_{A3A1}"
     ],
     "language": "python",
     "metadata": {},
     "outputs": [
      {
       "latex": [
        "$$\\left[\\begin{matrix}\\cos{\\left (\\beta{\\left (t \\right )} \\right )} \\cos{\\left (\\zeta\\left(t\\right) \\right )} & \\sin{\\left (\\zeta\\left(t\\right) \\right )} & \\sin{\\left (\\beta{\\left (t \\right )} \\right )} \\cos{\\left (\\zeta\\left(t\\right) \\right )}\\\\- \\sin{\\left (\\zeta\\left(t\\right) \\right )} \\cos{\\left (\\beta{\\left (t \\right )} \\right )} & \\cos{\\left (\\zeta\\left(t\\right) \\right )} & - \\sin{\\left (\\beta{\\left (t \\right )} \\right )} \\sin{\\left (\\zeta\\left(t\\right) \\right )}\\\\- \\sin{\\left (\\beta{\\left (t \\right )} \\right )} & 0 & \\cos{\\left (\\beta{\\left (t \\right )} \\right )}\\end{matrix}\\right]$$"
       ],
       "metadata": {},
       "output_type": "pyout",
       "png": "[encoded data removed]",
       "prompt_number": 17,
       "text": [
        "\u23a1cos(\u03b2(t))\u22c5cos(\u03b6(t))   sin(\u03b6(t))  sin(\u03b2(t))\u22c5cos(\u03b6(t)) \u23a4\n",
        "\u23a2                                                     \u23a5\n",
        "\u23a2-sin(\u03b6(t))\u22c5cos(\u03b2(t))  cos(\u03b6(t))  -sin(\u03b2(t))\u22c5sin(\u03b6(t))\u23a5\n",
        "\u23a2                                                     \u23a5\n",
        "\u23a3     -sin(\u03b2(t))           0           cos(\u03b2(t))      \u23a6"
       ]
      }
     ],
     "prompt_number": 17
    },
    {
     "cell_type": "code",
     "collapsed": false,
     "input": [
      "B = IJKReferenceFrame(\"B\")\n",
      "theta = dynamicsymbols('theta')\n",
      "B.orient(A3, 'Axis', [theta, A3.x])\n",
      "B.dcm(A3)  # T_{BA3}"
     ],
     "language": "python",
     "metadata": {},
     "outputs": [
      {
       "latex": [
        "$$\\left[\\begin{matrix}1 & 0 & 0\\\\0 & \\cos{\\left (\\theta{\\left (t \\right )} \\right )} & \\sin{\\left (\\theta{\\left (t \\right )} \\right )}\\\\0 & - \\sin{\\left (\\theta{\\left (t \\right )} \\right )} & \\cos{\\left (\\theta{\\left (t \\right )} \\right )}\\end{matrix}\\right]$$"
       ],
       "metadata": {},
       "output_type": "pyout",
       "png": "[encoded data removed]",
       "prompt_number": 18,
       "text": [
        "\u23a11      0           0    \u23a4\n",
        "\u23a2                        \u23a5\n",
        "\u23a20  cos(\u03b8(t))   sin(\u03b8(t))\u23a5\n",
        "\u23a2                        \u23a5\n",
        "\u23a30  -sin(\u03b8(t))  cos(\u03b8(t))\u23a6"
       ]
      }
     ],
     "prompt_number": 18
    },
    {
     "cell_type": "code",
     "collapsed": false,
     "input": [
      "B.dcm(A1)  # T_{BA1}"
     ],
     "language": "python",
     "metadata": {},
     "outputs": [
      {
       "latex": [
        "$$\\left[\\begin{matrix}\\cos{\\left (\\beta{\\left (t \\right )} \\right )} \\cos{\\left (\\zeta\\left(t\\right) \\right )} & \\sin{\\left (\\zeta\\left(t\\right) \\right )} & \\sin{\\left (\\beta{\\left (t \\right )} \\right )} \\cos{\\left (\\zeta\\left(t\\right) \\right )}\\\\- \\sin{\\left (\\beta{\\left (t \\right )} \\right )} \\sin{\\left (\\theta{\\left (t \\right )} \\right )} - \\sin{\\left (\\zeta\\left(t\\right) \\right )} \\cos{\\left (\\beta{\\left (t \\right )} \\right )} \\cos{\\left (\\theta{\\left (t \\right )} \\right )} & \\cos{\\left (\\theta{\\left (t \\right )} \\right )} \\cos{\\left (\\zeta\\left(t\\right) \\right )} & - \\sin{\\left (\\beta{\\left (t \\right )} \\right )} \\sin{\\left (\\zeta\\left(t\\right) \\right )} \\cos{\\left (\\theta{\\left (t \\right )} \\right )} + \\sin{\\left (\\theta{\\left (t \\right )} \\right )} \\cos{\\left (\\beta{\\left (t \\right )} \\right )}\\\\- \\sin{\\left (\\beta{\\left (t \\right )} \\right )} \\cos{\\left (\\theta{\\left (t \\right )} \\right )} + \\sin{\\left (\\theta{\\left (t \\right )} \\right )} \\sin{\\left (\\zeta\\left(t\\right) \\right )} \\cos{\\left (\\beta{\\left (t \\right )} \\right )} & - \\sin{\\left (\\theta{\\left (t \\right )} \\right )} \\cos{\\left (\\zeta\\left(t\\right) \\right )} & \\sin{\\left (\\beta{\\left (t \\right )} \\right )} \\sin{\\left (\\theta{\\left (t \\right )} \\right )} \\sin{\\left (\\zeta\\left(t\\right) \\right )} + \\cos{\\left (\\beta{\\left (t \\right )} \\right )} \\cos{\\left (\\theta{\\left (t \\right )} \\right )}\\end{matrix}\\right]$$"
       ],
       "metadata": {},
       "output_type": "pyout",
       "png": "[encoded data removed]",
       "prompt_number": 19,
       "text": [
        "\u23a1                cos(\u03b2(t))\u22c5cos(\u03b6(t))                        sin(\u03b6(t))         \n",
        "\u23a2                                                                             \n",
        "\u23a2-sin(\u03b2(t))\u22c5sin(\u03b8(t)) - sin(\u03b6(t))\u22c5cos(\u03b2(t))\u22c5cos(\u03b8(t))  cos(\u03b8(t))\u22c5cos(\u03b6(t))   -\n",
        "\u23a2                                                                             \n",
        "\u23a3-sin(\u03b2(t))\u22c5cos(\u03b8(t)) + sin(\u03b8(t))\u22c5sin(\u03b6(t))\u22c5cos(\u03b2(t))  -sin(\u03b8(t))\u22c5cos(\u03b6(t))  s\n",
        "\n",
        "               sin(\u03b2(t))\u22c5cos(\u03b6(t))                 \u23a4\n",
        "                                                   \u23a5\n",
        "sin(\u03b2(t))\u22c5sin(\u03b6(t))\u22c5cos(\u03b8(t)) + sin(\u03b8(t))\u22c5cos(\u03b2(t))\u23a5\n",
        "                                                   \u23a5\n",
        "in(\u03b2(t))\u22c5sin(\u03b8(t))\u22c5sin(\u03b6(t)) + cos(\u03b2(t))\u22c5cos(\u03b8(t)) \u23a6"
       ]
      }
     ],
     "prompt_number": 19
    },
    {
     "cell_type": "code",
     "collapsed": false,
     "input": [
      "B.dcm(A)  # T_{BA}"
     ],
     "language": "python",
     "metadata": {},
     "outputs": [
      {
       "latex": [
        "$$\\left[\\begin{matrix}- \\sin{\\left (\\psi{\\left (t \\right )} \\right )} \\sin{\\left (\\zeta\\left(t\\right) \\right )} + \\cos{\\left (\\beta{\\left (t \\right )} \\right )} \\cos{\\left (\\psi{\\left (t \\right )} \\right )} \\cos{\\left (\\zeta\\left(t\\right) \\right )} & \\sin{\\left (\\psi{\\left (t \\right )} \\right )} \\cos{\\left (\\beta{\\left (t \\right )} \\right )} \\cos{\\left (\\zeta\\left(t\\right) \\right )} + \\sin{\\left (\\zeta\\left(t\\right) \\right )} \\cos{\\left (\\psi{\\left (t \\right )} \\right )} & \\sin{\\left (\\beta{\\left (t \\right )} \\right )} \\cos{\\left (\\zeta\\left(t\\right) \\right )}\\\\\\left(- \\sin{\\left (\\beta{\\left (t \\right )} \\right )} \\sin{\\left (\\theta{\\left (t \\right )} \\right )} - \\sin{\\left (\\zeta\\left(t\\right) \\right )} \\cos{\\left (\\beta{\\left (t \\right )} \\right )} \\cos{\\left (\\theta{\\left (t \\right )} \\right )}\\right) \\cos{\\left (\\psi{\\left (t \\right )} \\right )} - \\sin{\\left (\\psi{\\left (t \\right )} \\right )} \\cos{\\left (\\theta{\\left (t \\right )} \\right )} \\cos{\\left (\\zeta\\left(t\\right) \\right )} & \\left(- \\sin{\\left (\\beta{\\left (t \\right )} \\right )} \\sin{\\left (\\theta{\\left (t \\right )} \\right )} - \\sin{\\left (\\zeta\\left(t\\right) \\right )} \\cos{\\left (\\beta{\\left (t \\right )} \\right )} \\cos{\\left (\\theta{\\left (t \\right )} \\right )}\\right) \\sin{\\left (\\psi{\\left (t \\right )} \\right )} + \\cos{\\left (\\psi{\\left (t \\right )} \\right )} \\cos{\\left (\\theta{\\left (t \\right )} \\right )} \\cos{\\left (\\zeta\\left(t\\right) \\right )} & - \\sin{\\left (\\beta{\\left (t \\right )} \\right )} \\sin{\\left (\\zeta\\left(t\\right) \\right )} \\cos{\\left (\\theta{\\left (t \\right )} \\right )} + \\sin{\\left (\\theta{\\left (t \\right )} \\right )} \\cos{\\left (\\beta{\\left (t \\right )} \\right )}\\\\\\left(- \\sin{\\left (\\beta{\\left (t \\right )} \\right )} \\cos{\\left (\\theta{\\left (t \\right )} \\right )} + \\sin{\\left (\\theta{\\left (t \\right )} \\right )} \\sin{\\left (\\zeta\\left(t\\right) \\right )} \\cos{\\left (\\beta{\\left (t \\right )} \\right )}\\right) \\cos{\\left (\\psi{\\left (t \\right )} \\right )} + \\sin{\\left (\\psi{\\left (t \\right )} \\right )} \\sin{\\left (\\theta{\\left (t \\right )} \\right )} \\cos{\\left (\\zeta\\left(t\\right) \\right )} & \\left(- \\sin{\\left (\\beta{\\left (t \\right )} \\right )} \\cos{\\left (\\theta{\\left (t \\right )} \\right )} + \\sin{\\left (\\theta{\\left (t \\right )} \\right )} \\sin{\\left (\\zeta\\left(t\\right) \\right )} \\cos{\\left (\\beta{\\left (t \\right )} \\right )}\\right) \\sin{\\left (\\psi{\\left (t \\right )} \\right )} - \\sin{\\left (\\theta{\\left (t \\right )} \\right )} \\cos{\\left (\\psi{\\left (t \\right )} \\right )} \\cos{\\left (\\zeta\\left(t\\right) \\right )} & \\sin{\\left (\\beta{\\left (t \\right )} \\right )} \\sin{\\left (\\theta{\\left (t \\right )} \\right )} \\sin{\\left (\\zeta\\left(t\\right) \\right )} + \\cos{\\left (\\beta{\\left (t \\right )} \\right )} \\cos{\\left (\\theta{\\left (t \\right )} \\right )}\\end{matrix}\\right]$$"
       ],
       "metadata": {},
       "output_type": "pyout",
       "png": "[encoded data removed]",
       "prompt_number": 20,
       "text": [
        "\u23a1                      -sin(\u03c8(t))\u22c5sin(\u03b6(t)) + cos(\u03b2(t))\u22c5cos(\u03c8(t))\u22c5cos(\u03b6(t))   \n",
        "\u23a2                                                                             \n",
        "\u23a2(-sin(\u03b2(t))\u22c5sin(\u03b8(t)) - sin(\u03b6(t))\u22c5cos(\u03b2(t))\u22c5cos(\u03b8(t)))\u22c5cos(\u03c8(t)) - sin(\u03c8(t))\u22c5\n",
        "\u23a2                                                                             \n",
        "\u23a3(-sin(\u03b2(t))\u22c5cos(\u03b8(t)) + sin(\u03b8(t))\u22c5sin(\u03b6(t))\u22c5cos(\u03b2(t)))\u22c5cos(\u03c8(t)) + sin(\u03c8(t))\u22c5\n",
        "\n",
        "                                           sin(\u03c8(t))\u22c5cos(\u03b2(t))\u22c5cos(\u03b6(t)) + sin\n",
        "                                                                              \n",
        "cos(\u03b8(t))\u22c5cos(\u03b6(t))  (-sin(\u03b2(t))\u22c5sin(\u03b8(t)) - sin(\u03b6(t))\u22c5cos(\u03b2(t))\u22c5cos(\u03b8(t)))\u22c5si\n",
        "                                                                              \n",
        "sin(\u03b8(t))\u22c5cos(\u03b6(t))  (-sin(\u03b2(t))\u22c5cos(\u03b8(t)) + sin(\u03b8(t))\u22c5sin(\u03b6(t))\u22c5cos(\u03b2(t)))\u22c5si\n",
        "\n",
        "(\u03b6(t))\u22c5cos(\u03c8(t))                                         sin(\u03b2(t))\u22c5cos(\u03b6(t))  \n",
        "                                                                              \n",
        "n(\u03c8(t)) + cos(\u03c8(t))\u22c5cos(\u03b8(t))\u22c5cos(\u03b6(t))  -sin(\u03b2(t))\u22c5sin(\u03b6(t))\u22c5cos(\u03b8(t)) + sin(\n",
        "                                                                              \n",
        "n(\u03c8(t)) - sin(\u03b8(t))\u22c5cos(\u03c8(t))\u22c5cos(\u03b6(t))  sin(\u03b2(t))\u22c5sin(\u03b8(t))\u22c5sin(\u03b6(t)) + cos(\u03b2\n",
        "\n",
        "               \u23a4\n",
        "               \u23a5\n",
        "\u03b8(t))\u22c5cos(\u03b2(t))\u23a5\n",
        "               \u23a5\n",
        "(t))\u22c5cos(\u03b8(t)) \u23a6"
       ]
      }
     ],
     "prompt_number": 20
    },
    {
     "cell_type": "markdown",
     "metadata": {},
     "source": [
      "Con SymPy podemos obtener matrices de giro complicadas de forma casi instant\u00e1nea. Definamos ahora el **punto de acoplamiento de la pala** $E$:"
     ]
    },
    {
     "cell_type": "code",
     "collapsed": false,
     "input": [
      "O = Point(\"O\")\n",
      "O.set_vel(A, 0)"
     ],
     "language": "python",
     "metadata": {},
     "outputs": [],
     "prompt_number": 21
    },
    {
     "cell_type": "code",
     "collapsed": false,
     "input": [
      "E = O.locatenew('E', e * A1.x)\n",
      "E.pos_from(O)"
     ],
     "language": "python",
     "metadata": {},
     "outputs": [
      {
       "latex": [
        "$$e\\mathbf{i}_{A1}$$"
       ],
       "metadata": {},
       "output_type": "pyout",
       "png": "[encoded data removed]",
       "prompt_number": 22,
       "text": [
        "e \u001b[94m\u001b[1ma1_x\u001b[0;0m\u001b[0;0m"
       ]
      }
     ],
     "prompt_number": 22
    },
    {
     "cell_type": "markdown",
     "metadata": {},
     "source": [
      "Y su centro de masas $GB$:"
     ]
    },
    {
     "cell_type": "code",
     "collapsed": false,
     "input": [
      "x_GB = Symbol('x_GB')\n",
      "GB = E.locatenew('GB', x_GB * B.x)\n",
      "GB.pos_from(E)"
     ],
     "language": "python",
     "metadata": {},
     "outputs": [
      {
       "latex": [
        "$$x_{GB}\\mathbf{i}_{B}$$"
       ],
       "metadata": {},
       "output_type": "pyout",
       "png": "[encoded data removed]",
       "prompt_number": 23,
       "text": [
        "x_GB \u001b[94m\u001b[1mb_x\u001b[0;0m\u001b[0;0m"
       ]
      }
     ],
     "prompt_number": 23
    },
    {
     "cell_type": "markdown",
     "metadata": {},
     "source": [
      "La **velocidad angular de la pala** $\\omega_B$ es:"
     ]
    },
    {
     "cell_type": "code",
     "collapsed": false,
     "input": [
      "omega_B = B.ang_vel_in(A).subs(psi.diff(), Omega)\n",
      "omega_B"
     ],
     "language": "python",
     "metadata": {},
     "outputs": [
      {
       "latex": [
        "$$\\dot{\\theta}\\mathbf{i}_{A3} + \\dot{\\zeta\\left(t\\right)}\\mathbf{k}_{A2} -  \\dot{\\beta}\\mathbf{j}_{A1} + \\Omega\\mathbf{k}_{A}$$"
       ],
       "metadata": {},
       "output_type": "pyout",
       "png": "[encoded data removed]",
       "prompt_number": 24,
       "text": [
        "\u03b8\u0307 \u001b[94m\u001b[1ma3_x\u001b[0;0m\u001b[0;0m + \u03b6\u0307 \u001b[94m\u001b[1ma2_z\u001b[0;0m\u001b[0;0m - \u03b2\u0307 \u001b[94m\u001b[1ma1_y\u001b[0;0m\u001b[0;0m + \u03a9 \u001b[94m\u001b[1ma_z\u001b[0;0m\u001b[0;0m"
       ]
      }
     ],
     "prompt_number": 24
    },
    {
     "cell_type": "markdown",
     "metadata": {},
     "source": [
      "Expresada en ejes pala por componentes:"
     ]
    },
    {
     "cell_type": "code",
     "collapsed": false,
     "input": [
      "omega_B"
     ],
     "language": "python",
     "metadata": {},
     "outputs": [
      {
       "latex": [
        "$$\\dot{\\theta}\\mathbf{i}_{A3} + \\dot{\\zeta\\left(t\\right)}\\mathbf{k}_{A2} -  \\dot{\\beta}\\mathbf{j}_{A1} + \\Omega\\mathbf{k}_{A}$$"
       ],
       "metadata": {},
       "output_type": "pyout",
       "png": "[encoded data removed]",
       "prompt_number": 25,
       "text": [
        "\u03b8\u0307 \u001b[94m\u001b[1ma3_x\u001b[0;0m\u001b[0;0m + \u03b6\u0307 \u001b[94m\u001b[1ma2_z\u001b[0;0m\u001b[0;0m - \u03b2\u0307 \u001b[94m\u001b[1ma1_y\u001b[0;0m\u001b[0;0m + \u03a9 \u001b[94m\u001b[1ma_z\u001b[0;0m\u001b[0;0m"
       ]
      }
     ],
     "prompt_number": 25
    },
    {
     "cell_type": "code",
     "collapsed": false,
     "input": [
      "omega_B.to_matrix(B)"
     ],
     "language": "python",
     "metadata": {},
     "outputs": [
      {
       "latex": [
        "$$\\left[\\begin{matrix}\\Omega \\sin{\\left (\\beta{\\left (t \\right )} \\right )} \\cos{\\left (\\zeta\\left(t\\right) \\right )} - \\sin{\\left (\\zeta\\left(t\\right) \\right )} \\frac{d}{d t} \\beta{\\left (t \\right )} + \\frac{d}{d t} \\theta{\\left (t \\right )}\\\\\\Omega \\left(- \\sin{\\left (\\beta{\\left (t \\right )} \\right )} \\sin{\\left (\\zeta\\left(t\\right) \\right )} \\cos{\\left (\\theta{\\left (t \\right )} \\right )} + \\sin{\\left (\\theta{\\left (t \\right )} \\right )} \\cos{\\left (\\beta{\\left (t \\right )} \\right )}\\right) + \\sin{\\left (\\theta{\\left (t \\right )} \\right )} \\frac{d}{d t} \\zeta\\left(t\\right) - \\cos{\\left (\\theta{\\left (t \\right )} \\right )} \\cos{\\left (\\zeta\\left(t\\right) \\right )} \\frac{d}{d t} \\beta{\\left (t \\right )}\\\\\\Omega \\left(\\sin{\\left (\\beta{\\left (t \\right )} \\right )} \\sin{\\left (\\theta{\\left (t \\right )} \\right )} \\sin{\\left (\\zeta\\left(t\\right) \\right )} + \\cos{\\left (\\beta{\\left (t \\right )} \\right )} \\cos{\\left (\\theta{\\left (t \\right )} \\right )}\\right) + \\sin{\\left (\\theta{\\left (t \\right )} \\right )} \\cos{\\left (\\zeta\\left(t\\right) \\right )} \\frac{d}{d t} \\beta{\\left (t \\right )} + \\cos{\\left (\\theta{\\left (t \\right )} \\right )} \\frac{d}{d t} \\zeta\\left(t\\right)\\end{matrix}\\right]$$"
       ],
       "metadata": {},
       "output_type": "pyout",
       "png": "[encoded data removed]",
       "prompt_number": 26,
       "text": [
        "\u23a1                                                             d          d    \n",
        "\u23a2                           \u03a9\u22c5sin(\u03b2(t))\u22c5cos(\u03b6(t)) - sin(\u03b6(t))\u22c5\u2500\u2500(\u03b2(t)) + \u2500\u2500(\u03b8(\n",
        "\u23a2                                                             dt         dt   \n",
        "\u23a2                                                                             \n",
        "\u23a2                                                                     d       \n",
        "\u23a2\u03a9\u22c5(-sin(\u03b2(t))\u22c5sin(\u03b6(t))\u22c5cos(\u03b8(t)) + sin(\u03b8(t))\u22c5cos(\u03b2(t))) + sin(\u03b8(t))\u22c5\u2500\u2500(\u03b6(t))\n",
        "\u23a2                                                                     dt      \n",
        "\u23a2                                                                             \n",
        "\u23a2                                                                             \n",
        "\u23a2\u03a9\u22c5(sin(\u03b2(t))\u22c5sin(\u03b8(t))\u22c5sin(\u03b6(t)) + cos(\u03b2(t))\u22c5cos(\u03b8(t))) + sin(\u03b8(t))\u22c5cos(\u03b6(t))\n",
        "\u23a3                                                                             \n",
        "\n",
        "                               \u23a4\n",
        "t))                            \u23a5\n",
        "                               \u23a5\n",
        "                               \u23a5\n",
        "                       d       \u23a5\n",
        " - cos(\u03b8(t))\u22c5cos(\u03b6(t))\u22c5\u2500\u2500(\u03b2(t))\u23a5\n",
        "                       dt      \u23a5\n",
        "                               \u23a5\n",
        " d                    d        \u23a5\n",
        "\u22c5\u2500\u2500(\u03b2(t)) + cos(\u03b8(t))\u22c5\u2500\u2500(\u03b6(t)) \u23a5\n",
        " dt                   dt       \u23a6"
       ]
      }
     ],
     "prompt_number": 26
    },
    {
     "cell_type": "heading",
     "level": 2,
     "metadata": {},
     "source": [
      "T\u00e9rminos inerciales"
     ]
    },
    {
     "cell_type": "markdown",
     "metadata": {},
     "source": [
      "El tensor de inercia en ejes pala, asumiendo que estos son ejes principales de inercia, ser\u00e1:"
     ]
    },
    {
     "cell_type": "code",
     "collapsed": false,
     "input": [
      "from sympy.physics.mechanics import inertia"
     ],
     "language": "python",
     "metadata": {},
     "outputs": [],
     "prompt_number": 27
    },
    {
     "cell_type": "code",
     "collapsed": false,
     "input": [
      "I_theta, I_beta, I_zeta = symbols('I_theta, I_beta, I_zeta')\n",
      "I_B = inertia(B, I_theta, I_beta, I_zeta)\n",
      "I_B"
     ],
     "language": "python",
     "metadata": {},
     "outputs": [
      {
       "latex": [
        "$$I_{\\theta}\\mathbf{i}_{B}\\otimes \\mathbf{i}_{B} + I_{\\beta}\\mathbf{j}_{B}\\otimes \\mathbf{j}_{B} + I_{\\zeta}\\mathbf{k}_{B}\\otimes \\mathbf{k}_{B}$$"
       ],
       "metadata": {},
       "output_type": "pyout",
       "png": "[encoded data removed]",
       "prompt_number": 28,
       "text": [
        "I_\u03b8 \u001b[94m\u001b[1mb_x\u001b[0;0m\u001b[0;0m\u2297\u001b[94m\u001b[1mb_x\u001b[0;0m\u001b[0;0m + I\u1d66 \u001b[94m\u001b[1mb_y\u001b[0;0m\u001b[0;0m\u2297\u001b[94m\u001b[1mb_y\u001b[0;0m\u001b[0;0m + I_\u03b6 \u001b[94m\u001b[1mb_z\u001b[0;0m\u001b[0;0m\u2297\u001b[94m\u001b[1mb_z\u001b[0;0m\u001b[0;0m"
       ]
      }
     ],
     "prompt_number": 28
    },
    {
     "cell_type": "code",
     "collapsed": false,
     "input": [
      "I_B.to_matrix(B)"
     ],
     "language": "python",
     "metadata": {},
     "outputs": [
      {
       "latex": [
        "$$\\left[\\begin{matrix}I_{\\theta} & 0 & 0\\\\0 & I_{\\beta} & 0\\\\0 & 0 & I_{\\zeta}\\end{matrix}\\right]$$"
       ],
       "metadata": {},
       "output_type": "pyout",
       "png": "[encoded data removed]",
       "prompt_number": 29,
       "text": [
        "\u23a1I_\u03b8  0    0 \u23a4\n",
        "\u23a2            \u23a5\n",
        "\u23a2 0   I\u1d66   0 \u23a5\n",
        "\u23a2            \u23a5\n",
        "\u23a3 0   0   I_\u03b6\u23a6"
       ]
      }
     ],
     "prompt_number": 29
    },
    {
     "cell_type": "markdown",
     "metadata": {},
     "source": [
      "El **momento cin\u00e9tico** $h_B$ ser\u00e1, por tanto:"
     ]
    },
    {
     "cell_type": "code",
     "collapsed": false,
     "input": [
      "h_B = I_B.dot(omega_B).subs(psi.diff(), Omega)\n",
      "h_B.to_matrix(B)"
     ],
     "language": "python",
     "metadata": {},
     "outputs": [
      {
       "latex": [
        "$$\\left[\\begin{matrix}I_{\\theta} \\left(\\Omega \\sin{\\left (\\beta{\\left (t \\right )} \\right )} \\cos{\\left (\\zeta\\left(t\\right) \\right )} - \\sin{\\left (\\zeta\\left(t\\right) \\right )} \\frac{d}{d t} \\beta{\\left (t \\right )} + \\frac{d}{d t} \\theta{\\left (t \\right )}\\right)\\\\I_{\\beta} \\left(\\Omega \\left(- \\sin{\\left (\\beta{\\left (t \\right )} \\right )} \\sin{\\left (\\zeta\\left(t\\right) \\right )} \\cos{\\left (\\theta{\\left (t \\right )} \\right )} + \\sin{\\left (\\theta{\\left (t \\right )} \\right )} \\cos{\\left (\\beta{\\left (t \\right )} \\right )}\\right) + \\sin{\\left (\\theta{\\left (t \\right )} \\right )} \\frac{d}{d t} \\zeta\\left(t\\right) - \\cos{\\left (\\theta{\\left (t \\right )} \\right )} \\cos{\\left (\\zeta\\left(t\\right) \\right )} \\frac{d}{d t} \\beta{\\left (t \\right )}\\right)\\\\I_{\\zeta} \\left(\\Omega \\left(\\sin{\\left (\\beta{\\left (t \\right )} \\right )} \\sin{\\left (\\theta{\\left (t \\right )} \\right )} \\sin{\\left (\\zeta\\left(t\\right) \\right )} + \\cos{\\left (\\beta{\\left (t \\right )} \\right )} \\cos{\\left (\\theta{\\left (t \\right )} \\right )}\\right) + \\sin{\\left (\\theta{\\left (t \\right )} \\right )} \\cos{\\left (\\zeta\\left(t\\right) \\right )} \\frac{d}{d t} \\beta{\\left (t \\right )} + \\cos{\\left (\\theta{\\left (t \\right )} \\right )} \\frac{d}{d t} \\zeta\\left(t\\right)\\right)\\end{matrix}\\right]$$"
       ],
       "metadata": {},
       "output_type": "pyout",
       "png": "[encoded data removed]",
       "prompt_number": 30,
       "text": [
        "\u23a1                               \u239b                                  d          \n",
        "\u23a2                           I_\u03b8\u22c5\u239c\u03a9\u22c5sin(\u03b2(t))\u22c5cos(\u03b6(t)) - sin(\u03b6(t))\u22c5\u2500\u2500(\u03b2(t)) + \n",
        "\u23a2                               \u239d                                  dt         \n",
        "\u23a2                                                                             \n",
        "\u23a2   \u239b                                                                     d   \n",
        "\u23a2I\u1d66\u22c5\u239c\u03a9\u22c5(-sin(\u03b2(t))\u22c5sin(\u03b6(t))\u22c5cos(\u03b8(t)) + sin(\u03b8(t))\u22c5cos(\u03b2(t))) + sin(\u03b8(t))\u22c5\u2500\u2500(\u03b6\n",
        "\u23a2   \u239d                                                                     dt  \n",
        "\u23a2                                                                             \n",
        "\u23a2    \u239b                                                                        \n",
        "\u23a2I_\u03b6\u22c5\u239c\u03a9\u22c5(sin(\u03b2(t))\u22c5sin(\u03b8(t))\u22c5sin(\u03b6(t)) + cos(\u03b2(t))\u22c5cos(\u03b8(t))) + sin(\u03b8(t))\u22c5cos(\n",
        "\u23a3    \u239d                                                                        \n",
        "\n",
        "d       \u239e                           \u23a4\n",
        "\u2500\u2500(\u03b8(t))\u239f                           \u23a5\n",
        "dt      \u23a0                           \u23a5\n",
        "                                    \u23a5\n",
        "                           d       \u239e\u23a5\n",
        "(t)) - cos(\u03b8(t))\u22c5cos(\u03b6(t))\u22c5\u2500\u2500(\u03b2(t))\u239f\u23a5\n",
        "                           dt      \u23a0\u23a5\n",
        "                                    \u23a5\n",
        "      d                    d       \u239e\u23a5\n",
        "\u03b6(t))\u22c5\u2500\u2500(\u03b2(t)) + cos(\u03b8(t))\u22c5\u2500\u2500(\u03b6(t))\u239f\u23a5\n",
        "      dt                   dt      \u23a0\u23a6"
       ]
      }
     ],
     "prompt_number": 30
    },
    {
     "cell_type": "markdown",
     "metadata": {},
     "source": [
      "Para la derivada del momento cin\u00e9tico tendremos simplemente:"
     ]
    },
    {
     "cell_type": "code",
     "collapsed": false,
     "input": [
      "dh_B_dt = h_B.dt(A)\n",
      "dh_B_dt"
     ],
     "language": "python",
     "metadata": {},
     "outputs": [
      {
       "latex": [
        "$$(- I_{\\beta} \\left(\\Omega \\left(- \\operatorname{sin}\\left(\\beta\\right) \\operatorname{sin}\\left(\\zeta\\left(t\\right)\\right) \\operatorname{cos}\\left(\\theta\\right) + \\operatorname{sin}\\left(\\theta\\right) \\operatorname{cos}\\left(\\beta\\right)\\right) + \\operatorname{sin}\\left(\\theta\\right) \\dot{\\zeta\\left(t\\right)} - \\operatorname{cos}\\left(\\theta\\right) \\operatorname{cos}\\left(\\zeta\\left(t\\right)\\right) \\dot{\\beta}\\right) \\left(\\left(\\operatorname{sin}\\left(\\beta\\right) \\operatorname{sin}\\left(\\theta\\right) \\operatorname{sin}\\left(\\zeta\\left(t\\right)\\right) + \\operatorname{cos}\\left(\\beta\\right) \\operatorname{cos}\\left(\\theta\\right)\\right) \\dot{\\psi} + \\operatorname{sin}\\left(\\theta\\right) \\operatorname{cos}\\left(\\zeta\\left(t\\right)\\right) \\dot{\\beta} + \\operatorname{cos}\\left(\\theta\\right) \\dot{\\zeta\\left(t\\right)}\\right) + I_{\\theta} \\left(- \\Omega \\operatorname{sin}\\left(\\beta\\right) \\operatorname{sin}\\left(\\zeta\\left(t\\right)\\right) \\dot{\\zeta\\left(t\\right)} + \\Omega \\operatorname{cos}\\left(\\beta\\right) \\operatorname{cos}\\left(\\zeta\\left(t\\right)\\right) \\dot{\\beta} - \\operatorname{sin}\\left(\\zeta\\left(t\\right)\\right) \\ddot{\\beta} - \\operatorname{cos}\\left(\\zeta\\left(t\\right)\\right) \\dot{\\beta} \\dot{\\zeta\\left(t\\right)} + \\ddot{\\theta}\\right) + I_{\\zeta} \\left(\\Omega \\left(\\operatorname{sin}\\left(\\beta\\right) \\operatorname{sin}\\left(\\theta\\right) \\operatorname{sin}\\left(\\zeta\\left(t\\right)\\right) + \\operatorname{cos}\\left(\\beta\\right) \\operatorname{cos}\\left(\\theta\\right)\\right) + \\operatorname{sin}\\left(\\theta\\right) \\operatorname{cos}\\left(\\zeta\\left(t\\right)\\right) \\dot{\\beta} + \\operatorname{cos}\\left(\\theta\\right) \\dot{\\zeta\\left(t\\right)}\\right) \\left(\\left(- \\operatorname{sin}\\left(\\beta\\right) \\operatorname{sin}\\left(\\zeta\\left(t\\right)\\right) \\operatorname{cos}\\left(\\theta\\right) + \\operatorname{sin}\\left(\\theta\\right) \\operatorname{cos}\\left(\\beta\\right)\\right) \\dot{\\psi} + \\operatorname{sin}\\left(\\theta\\right) \\dot{\\zeta\\left(t\\right)} - \\operatorname{cos}\\left(\\theta\\right) \\operatorname{cos}\\left(\\zeta\\left(t\\right)\\right) \\dot{\\beta}\\right))\\mathbf{i}_{B} + (I_{\\beta} \\left(\\Omega \\left(\\operatorname{sin}\\left(\\beta\\right) \\operatorname{sin}\\left(\\theta\\right) \\operatorname{sin}\\left(\\zeta\\left(t\\right)\\right) \\dot{\\theta} - \\operatorname{sin}\\left(\\beta\\right) \\operatorname{sin}\\left(\\theta\\right) \\dot{\\beta} - \\operatorname{sin}\\left(\\beta\\right) \\operatorname{cos}\\left(\\theta\\right) \\operatorname{cos}\\left(\\zeta\\left(t\\right)\\right) \\dot{\\zeta\\left(t\\right)} - \\operatorname{sin}\\left(\\zeta\\left(t\\right)\\right) \\operatorname{cos}\\left(\\beta\\right) \\operatorname{cos}\\left(\\theta\\right) \\dot{\\beta} + \\operatorname{cos}\\left(\\beta\\right) \\operatorname{cos}\\left(\\theta\\right) \\dot{\\theta}\\right) + \\operatorname{sin}\\left(\\theta\\right) \\operatorname{cos}\\left(\\zeta\\left(t\\right)\\right) \\dot{\\beta} \\dot{\\theta} + \\operatorname{sin}\\left(\\theta\\right) \\ddot{\\zeta\\left(t\\right)} + \\operatorname{sin}\\left(\\zeta\\left(t\\right)\\right) \\operatorname{cos}\\left(\\theta\\right) \\dot{\\beta} \\dot{\\zeta\\left(t\\right)} - \\operatorname{cos}\\left(\\theta\\right) \\operatorname{cos}\\left(\\zeta\\left(t\\right)\\right) \\ddot{\\beta} + \\operatorname{cos}\\left(\\theta\\right) \\dot{\\theta} \\dot{\\zeta\\left(t\\right)}\\right) + I_{\\theta} \\left(\\left(\\operatorname{sin}\\left(\\beta\\right) \\operatorname{sin}\\left(\\theta\\right) \\operatorname{sin}\\left(\\zeta\\left(t\\right)\\right) + \\operatorname{cos}\\left(\\beta\\right) \\operatorname{cos}\\left(\\theta\\right)\\right) \\dot{\\psi} + \\operatorname{sin}\\left(\\theta\\right) \\operatorname{cos}\\left(\\zeta\\left(t\\right)\\right) \\dot{\\beta} + \\operatorname{cos}\\left(\\theta\\right) \\dot{\\zeta\\left(t\\right)}\\right) \\left(\\Omega \\operatorname{sin}\\left(\\beta\\right) \\operatorname{cos}\\left(\\zeta\\left(t\\right)\\right) - \\operatorname{sin}\\left(\\zeta\\left(t\\right)\\right) \\dot{\\beta} + \\dot{\\theta}\\right) - I_{\\zeta} \\left(\\Omega \\left(\\operatorname{sin}\\left(\\beta\\right) \\operatorname{sin}\\left(\\theta\\right) \\operatorname{sin}\\left(\\zeta\\left(t\\right)\\right) + \\operatorname{cos}\\left(\\beta\\right) \\operatorname{cos}\\left(\\theta\\right)\\right) + \\operatorname{sin}\\left(\\theta\\right) \\operatorname{cos}\\left(\\zeta\\left(t\\right)\\right) \\dot{\\beta} + \\operatorname{cos}\\left(\\theta\\right) \\dot{\\zeta\\left(t\\right)}\\right) \\left(\\operatorname{sin}\\left(\\beta\\right) \\operatorname{cos}\\left(\\zeta\\left(t\\right)\\right) \\dot{\\psi} - \\operatorname{sin}\\left(\\zeta\\left(t\\right)\\right) \\dot{\\beta} + \\dot{\\theta}\\right))\\mathbf{j}_{B} + (I_{\\beta} \\left(\\Omega \\left(- \\operatorname{sin}\\left(\\beta\\right) \\operatorname{sin}\\left(\\zeta\\left(t\\right)\\right) \\operatorname{cos}\\left(\\theta\\right) + \\operatorname{sin}\\left(\\theta\\right) \\operatorname{cos}\\left(\\beta\\right)\\right) + \\operatorname{sin}\\left(\\theta\\right) \\dot{\\zeta\\left(t\\right)} - \\operatorname{cos}\\left(\\theta\\right) \\operatorname{cos}\\left(\\zeta\\left(t\\right)\\right) \\dot{\\beta}\\right) \\left(\\operatorname{sin}\\left(\\beta\\right) \\operatorname{cos}\\left(\\zeta\\left(t\\right)\\right) \\dot{\\psi} - \\operatorname{sin}\\left(\\zeta\\left(t\\right)\\right) \\dot{\\beta} + \\dot{\\theta}\\right) - I_{\\theta} \\left(\\left(- \\operatorname{sin}\\left(\\beta\\right) \\operatorname{sin}\\left(\\zeta\\left(t\\right)\\right) \\operatorname{cos}\\left(\\theta\\right) + \\operatorname{sin}\\left(\\theta\\right) \\operatorname{cos}\\left(\\beta\\right)\\right) \\dot{\\psi} + \\operatorname{sin}\\left(\\theta\\right) \\dot{\\zeta\\left(t\\right)} - \\operatorname{cos}\\left(\\theta\\right) \\operatorname{cos}\\left(\\zeta\\left(t\\right)\\right) \\dot{\\beta}\\right) \\left(\\Omega \\operatorname{sin}\\left(\\beta\\right) \\operatorname{cos}\\left(\\zeta\\left(t\\right)\\right) - \\operatorname{sin}\\left(\\zeta\\left(t\\right)\\right) \\dot{\\beta} + \\dot{\\theta}\\right) + I_{\\zeta} \\left(\\Omega \\left(\\operatorname{sin}\\left(\\beta\\right) \\operatorname{sin}\\left(\\theta\\right) \\operatorname{cos}\\left(\\zeta\\left(t\\right)\\right) \\dot{\\zeta\\left(t\\right)} + \\operatorname{sin}\\left(\\beta\\right) \\operatorname{sin}\\left(\\zeta\\left(t\\right)\\right) \\operatorname{cos}\\left(\\theta\\right) \\dot{\\theta} - \\operatorname{sin}\\left(\\beta\\right) \\operatorname{cos}\\left(\\theta\\right) \\dot{\\beta} + \\operatorname{sin}\\left(\\theta\\right) \\operatorname{sin}\\left(\\zeta\\left(t\\right)\\right) \\operatorname{cos}\\left(\\beta\\right) \\dot{\\beta} - \\operatorname{sin}\\left(\\theta\\right) \\operatorname{cos}\\left(\\beta\\right) \\dot{\\theta}\\right) - \\operatorname{sin}\\left(\\theta\\right) \\operatorname{sin}\\left(\\zeta\\left(t\\right)\\right) \\dot{\\beta} \\dot{\\zeta\\left(t\\right)} + \\operatorname{sin}\\left(\\theta\\right) \\operatorname{cos}\\left(\\zeta\\left(t\\right)\\right) \\ddot{\\beta} - \\operatorname{sin}\\left(\\theta\\right) \\dot{\\theta} \\dot{\\zeta\\left(t\\right)} + \\operatorname{cos}\\left(\\theta\\right) \\operatorname{cos}\\left(\\zeta\\left(t\\right)\\right) \\dot{\\beta} \\dot{\\theta} + \\operatorname{cos}\\left(\\theta\\right) \\ddot{\\zeta\\left(t\\right)}\\right))\\mathbf{k}_{B}$$"
       ],
       "metadata": {},
       "output_type": "pyout",
       "png": "[encoded data removed]",
       "prompt_number": 31,
       "text": [
        "(-I\u1d66\u22c5(\u03a9\u22c5(-sin(\u03b2)\u22c5sin(\u03b6)\u22c5cos(\u03b8) + sin(\u03b8)\u22c5cos(\u03b2)) + sin(\u03b8)\u22c5\u03b6\u0307 - cos(\u03b8)\u22c5cos(\u03b6)\u22c5\u03b2\u0307)\u22c5((sin(\u03b2)\u22c5sin(\u03b8)\u22c5sin(\u03b6) + cos(\u03b2)\u22c5cos(\u03b8))\u22c5\u03c8\u0307 + sin(\u03b8)\u22c5cos(\u03b6)\u22c5\u03b2\u0307 + cos(\u03b8)\u22c5\u03b6\u0307) + I_\u03b8\u22c5(-\u03a9\u22c5sin(\u03b2)\u22c5sin(\u03b6)\u22c5\u03b6\u0307 + \u03a9\u22c5cos(\u03b2)\u22c5cos(\u03b6)\u22c5\u03b2\u0307 - sin(\u03b6)\u22c5\u03b2\u0308 - cos(\u03b6)\u22c5\u03b2\u0307\u22c5\u03b6\u0307 + \u03b8\u0308) + I_\u03b6\u22c5(\u03a9\u22c5(sin(\u03b2)\u22c5sin(\u03b8)\u22c5sin(\u03b6) + cos(\u03b2)\u22c5cos(\u03b8)) + sin(\u03b8)\u22c5cos(\u03b6)\u22c5\u03b2\u0307 + cos(\u03b8)\u22c5\u03b6\u0307)\u22c5((-sin(\u03b2)\u22c5sin(\u03b6)\u22c5cos(\u03b8) + sin(\u03b8)\u22c5cos(\u03b2))\u22c5\u03c8\u0307 + sin(\u03b8)\u22c5\u03b6\u0307 - cos(\u03b8)\u22c5cos(\u03b6)\u22c5\u03b2\u0307)) \u001b[94m\u001b[1mb_x\u001b[0;0m\u001b[0;0m + (I\u1d66\u22c5(\u03a9\u22c5(sin(\u03b2)\u22c5sin(\u03b8)\u22c5sin(\u03b6)\u22c5\u03b8\u0307 - sin(\u03b2)\u22c5sin(\u03b8)\u22c5\u03b2\u0307 - sin(\u03b2)\u22c5cos(\u03b8)\u22c5cos(\u03b6)\u22c5\u03b6\u0307 - sin(\u03b6)\u22c5cos(\u03b2)\u22c5cos(\u03b8)\u22c5\u03b2\u0307 + cos(\u03b2)\u22c5cos(\u03b8)\u22c5\u03b8\u0307) + sin(\u03b8)\u22c5cos(\u03b6)\u22c5\u03b2\u0307\u22c5\u03b8\u0307 + sin(\u03b8)\u22c5\u03b6\u0308 + sin(\u03b6)\u22c5cos(\u03b8)\u22c5\u03b2\u0307\u22c5\u03b6\u0307 - cos(\u03b8)\u22c5cos(\u03b6)\u22c5\u03b2\u0308 + cos(\u03b8)\u22c5\u03b8\u0307\u22c5\u03b6\u0307) + I_\u03b8\u22c5((sin(\u03b2)\u22c5sin(\u03b8)\u22c5sin(\u03b6) + cos(\u03b2)\u22c5cos(\u03b8))\u22c5\u03c8\u0307 + sin(\u03b8)\u22c5cos(\u03b6)\u22c5\u03b2\u0307 + cos(\u03b8)\u22c5\u03b6\u0307)\u22c5(\u03a9\u22c5sin(\u03b2)\u22c5cos(\u03b6) - sin(\u03b6)\u22c5\u03b2\u0307 + \u03b8\u0307) - I_\u03b6\u22c5(\u03a9\u22c5(sin(\u03b2)\u22c5sin(\u03b8)\u22c5sin(\u03b6) + cos(\u03b2)\u22c5cos(\u03b8)) + sin(\u03b8)\u22c5cos(\u03b6)\u22c5\u03b2\u0307 + cos(\u03b8)\u22c5\u03b6\u0307)\u22c5(sin(\u03b2)\u22c5cos(\u03b6)\u22c5\u03c8\u0307 - sin(\u03b6)\u22c5\u03b2\u0307 + \u03b8\u0307)) \u001b[94m\u001b[1mb_y\u001b[0;0m\u001b[0;0m + (I\u1d66\u22c5(\u03a9\u22c5(-sin(\u03b2)\u22c5sin(\u03b6)\u22c5cos(\u03b8) + sin(\u03b8)\u22c5cos(\u03b2)) + sin(\u03b8)\u22c5\u03b6\u0307 - cos(\u03b8)\u22c5cos(\u03b6)\u22c5\u03b2\u0307)\u22c5(sin(\u03b2)\u22c5cos(\u03b6)\u22c5\u03c8\u0307 - sin(\u03b6)\u22c5\u03b2\u0307 + \u03b8\u0307) - I_\u03b8\u22c5((-sin(\u03b2)\u22c5sin(\u03b6)\u22c5cos(\u03b8) + sin(\u03b8)\u22c5cos(\u03b2))\u22c5\u03c8\u0307 + sin(\u03b8)\u22c5\u03b6\u0307 - cos(\u03b8)\u22c5cos(\u03b6)\u22c5\u03b2\u0307)\u22c5(\u03a9\u22c5sin(\u03b2)\u22c5cos(\u03b6) - sin(\u03b6)\u22c5\u03b2\u0307 + \u03b8\u0307) + I_\u03b6\u22c5(\u03a9\u22c5(sin(\u03b2)\u22c5sin(\u03b8)\u22c5cos(\u03b6)\u22c5\u03b6\u0307 + sin(\u03b2)\u22c5sin(\u03b6)\u22c5cos(\u03b8)\u22c5\u03b8\u0307 - sin(\u03b2)\u22c5cos(\u03b8)\u22c5\u03b2\u0307 + sin(\u03b8)\u22c5sin(\u03b6)\u22c5cos(\u03b2)\u22c5\u03b2\u0307 - sin(\u03b8)\u22c5cos(\u03b2)\u22c5\u03b8\u0307) - sin(\u03b8)\u22c5sin(\u03b6)\u22c5\u03b2\u0307\u22c5\u03b6\u0307 + sin(\u03b8)\u22c5cos(\u03b6)\u22c5\u03b2\u0308 - sin(\u03b8)\u22c5\u03b8\u0307\u22c5\u03b6\u0307 + cos(\u03b8)\u22c5cos(\u03b6)\u22c5\u03b2\u0307\u22c5\u03b8\u0307 + cos(\u03b8)\u22c5\u03b6\u0308)) \u001b[94m\u001b[1mb_z\u001b[0;0m\u001b[0;0m"
       ]
      }
     ],
     "prompt_number": 31
    },
    {
     "cell_type": "markdown",
     "metadata": {},
     "source": [
      "Aparece una expresi\u00f3n bastante compleja que no merece la pena analizar. Para la aceleraci\u00f3n del acoplamiento:"
     ]
    },
    {
     "cell_type": "code",
     "collapsed": false,
     "input": [
      "E.set_vel(A1, 0)\n",
      "v_E = E.v1pt_theory(O, A, A1)\n",
      "v_E"
     ],
     "language": "python",
     "metadata": {},
     "outputs": [
      {
       "latex": [
        "$$e \\dot{\\psi}\\mathbf{j}_{A1}$$"
       ],
       "metadata": {},
       "output_type": "pyout",
       "png": "[encoded data removed]",
       "prompt_number": 32,
       "text": [
        "e\u22c5\u03c8\u0307 \u001b[94m\u001b[1ma1_y\u001b[0;0m\u001b[0;0m"
       ]
      }
     ],
     "prompt_number": 32
    },
    {
     "cell_type": "code",
     "collapsed": false,
     "input": [
      "a_E = v_E.dt(A).subs({psi.diff(): Omega, psi.diff().diff(): 0})\n",
      "a_E"
     ],
     "language": "python",
     "metadata": {},
     "outputs": [
      {
       "latex": [
        "$$-  \\Omega^{2} e\\mathbf{i}_{A1}$$"
       ],
       "metadata": {},
       "output_type": "pyout",
       "png": "[encoded data removed]",
       "prompt_number": 33,
       "text": [
        "  2  \n",
        "-\u03a9 \u22c5e \u001b[94m\u001b[1ma1_x\u001b[0;0m\u001b[0;0m"
       ]
      }
     ],
     "prompt_number": 33
    },
    {
     "cell_type": "code",
     "collapsed": false,
     "input": [
      "a_E.to_matrix(B).simplify()"
     ],
     "language": "python",
     "metadata": {},
     "outputs": [
      {
       "latex": [
        "$$\\left[\\begin{matrix}- \\Omega^{2} e \\cos{\\left (\\beta{\\left (t \\right )} \\right )} \\cos{\\left (\\zeta\\left(t\\right) \\right )}\\\\\\Omega^{2} e \\left(\\sin{\\left (\\beta{\\left (t \\right )} \\right )} \\sin{\\left (\\theta{\\left (t \\right )} \\right )} + \\sin{\\left (\\zeta\\left(t\\right) \\right )} \\cos{\\left (\\beta{\\left (t \\right )} \\right )} \\cos{\\left (\\theta{\\left (t \\right )} \\right )}\\right)\\\\\\Omega^{2} e \\left(\\sin{\\left (\\beta{\\left (t \\right )} \\right )} \\cos{\\left (\\theta{\\left (t \\right )} \\right )} - \\sin{\\left (\\theta{\\left (t \\right )} \\right )} \\sin{\\left (\\zeta\\left(t\\right) \\right )} \\cos{\\left (\\beta{\\left (t \\right )} \\right )}\\right)\\end{matrix}\\right]$$"
       ],
       "metadata": {},
       "output_type": "pyout",
       "png": "[encoded data removed]",
       "prompt_number": 34,
       "text": [
        "\u23a1                  2                                       \u23a4\n",
        "\u23a2                -\u03a9 \u22c5e\u22c5cos(\u03b2(t))\u22c5cos(\u03b6(t))                 \u23a5\n",
        "\u23a2                                                          \u23a5\n",
        "\u23a2 2                                                        \u23a5\n",
        "\u23a2\u03a9 \u22c5e\u22c5(sin(\u03b2(t))\u22c5sin(\u03b8(t)) + sin(\u03b6(t))\u22c5cos(\u03b2(t))\u22c5cos(\u03b8(t)))\u23a5\n",
        "\u23a2                                                          \u23a5\n",
        "\u23a2 2                                                        \u23a5\n",
        "\u23a3\u03a9 \u22c5e\u22c5(sin(\u03b2(t))\u22c5cos(\u03b8(t)) - sin(\u03b8(t))\u22c5sin(\u03b6(t))\u22c5cos(\u03b2(t)))\u23a6"
       ]
      }
     ],
     "prompt_number": 34
    },
    {
     "cell_type": "code",
     "collapsed": false,
     "input": [
      "EGB = GB.pos_from(E)\n",
      "EGB.cross(M_b * a_E).to_matrix(B).simplify()"
     ],
     "language": "python",
     "metadata": {},
     "outputs": [
      {
       "latex": [
        "$$\\left[\\begin{matrix}0\\\\M_{b} \\Omega^{2} e x_{GB} \\left(- \\sin{\\left (\\beta{\\left (t \\right )} \\right )} \\cos{\\left (\\theta{\\left (t \\right )} \\right )} + \\sin{\\left (\\theta{\\left (t \\right )} \\right )} \\sin{\\left (\\zeta\\left(t\\right) \\right )} \\cos{\\left (\\beta{\\left (t \\right )} \\right )}\\right)\\\\M_{b} \\Omega^{2} e x_{GB} \\left(\\sin{\\left (\\beta{\\left (t \\right )} \\right )} \\sin{\\left (\\theta{\\left (t \\right )} \\right )} + \\sin{\\left (\\zeta\\left(t\\right) \\right )} \\cos{\\left (\\beta{\\left (t \\right )} \\right )} \\cos{\\left (\\theta{\\left (t \\right )} \\right )}\\right)\\end{matrix}\\right]$$"
       ],
       "metadata": {},
       "output_type": "pyout",
       "png": "[encoded data removed]",
       "prompt_number": 35,
       "text": [
        "\u23a1                                 0                                  \u23a4\n",
        "\u23a2                                                                    \u23a5\n",
        "\u23a2     2                                                              \u23a5\n",
        "\u23a2M_b\u22c5\u03a9 \u22c5e\u22c5x_GB\u22c5(-sin(\u03b2(t))\u22c5cos(\u03b8(t)) + sin(\u03b8(t))\u22c5sin(\u03b6(t))\u22c5cos(\u03b2(t)))\u23a5\n",
        "\u23a2                                                                    \u23a5\n",
        "\u23a2     2                                                              \u23a5\n",
        "\u23a3M_b\u22c5\u03a9 \u22c5e\u22c5x_GB\u22c5(sin(\u03b2(t))\u22c5sin(\u03b8(t)) + sin(\u03b6(t))\u22c5cos(\u03b2(t))\u22c5cos(\u03b8(t))) \u23a6"
       ]
      }
     ],
     "prompt_number": 35
    },
    {
     "cell_type": "markdown",
     "metadata": {},
     "source": [
      "Y ahora el momento del peso, teniendo en cuenta que la gravedad ser\u00e1 $\\mathbf{g} = -g \\mathbf{k}_{A1}$:"
     ]
    },
    {
     "cell_type": "code",
     "collapsed": false,
     "input": [
      "EGB.cross(M_b * (-g * A1.z)).to_matrix(B).simplify()"
     ],
     "language": "python",
     "metadata": {},
     "outputs": [
      {
       "latex": [
        "$$\\left[\\begin{matrix}0\\\\M_{b} g x_{GB} \\left(\\sin{\\left (\\beta{\\left (t \\right )} \\right )} \\sin{\\left (\\theta{\\left (t \\right )} \\right )} \\sin{\\left (\\zeta\\left(t\\right) \\right )} + \\cos{\\left (\\beta{\\left (t \\right )} \\right )} \\cos{\\left (\\theta{\\left (t \\right )} \\right )}\\right)\\\\M_{b} g x_{GB} \\left(\\sin{\\left (\\beta{\\left (t \\right )} \\right )} \\sin{\\left (\\zeta\\left(t\\right) \\right )} \\cos{\\left (\\theta{\\left (t \\right )} \\right )} - \\sin{\\left (\\theta{\\left (t \\right )} \\right )} \\cos{\\left (\\beta{\\left (t \\right )} \\right )}\\right)\\end{matrix}\\right]$$"
       ],
       "metadata": {},
       "output_type": "pyout",
       "png": "[encoded data removed]",
       "prompt_number": 36,
       "text": [
        "\u23a1                               0                                \u23a4\n",
        "\u23a2                                                                \u23a5\n",
        "\u23a2M_b\u22c5g\u22c5x_GB\u22c5(sin(\u03b2(t))\u22c5sin(\u03b8(t))\u22c5sin(\u03b6(t)) + cos(\u03b2(t))\u22c5cos(\u03b8(t)))\u23a5\n",
        "\u23a2                                                                \u23a5\n",
        "\u23a3M_b\u22c5g\u22c5x_GB\u22c5(sin(\u03b2(t))\u22c5sin(\u03b6(t))\u22c5cos(\u03b8(t)) - sin(\u03b8(t))\u22c5cos(\u03b2(t)))\u23a6"
       ]
      }
     ],
     "prompt_number": 36
    },
    {
     "cell_type": "heading",
     "level": 2,
     "metadata": {},
     "source": [
      "Acoplamientos inerciales"
     ]
    },
    {
     "cell_type": "markdown",
     "metadata": {},
     "source": [
      "Vamos a estudiar cada uno de los grados de libertad desacoplados entre s\u00ed en vac\u00edo, es decir, sin acciones aerodin\u00e1micas: $\\mathbf{M}_b^{a, E} = 0$. Adem\u00e1s, se cumplir\u00e1 la relaci\u00f3n $I_{\\zeta} = I_{\\theta} + I_{\\beta}$."
     ]
    },
    {
     "cell_type": "heading",
     "level": 3,
     "metadata": {},
     "source": [
      "Din\u00e1mica de batimiento en vac\u00edo"
     ]
    },
    {
     "cell_type": "markdown",
     "metadata": {},
     "source": [
      "En este caso tenemos $\\beta(t) \\neq 0$, $\\zeta(t) = \\theta(t) = 0$. Las magnitudes analizadas anteriormente se simplifican:"
     ]
    },
    {
     "cell_type": "code",
     "collapsed": false,
     "input": [
      "omega_B.express(B).subs({theta: 0, zeta: 0})"
     ],
     "language": "python",
     "metadata": {},
     "outputs": [
      {
       "latex": [
        "$$(\\Omega \\operatorname{sin}\\left(\\beta\\right) + 0)\\mathbf{i}_{B} -  \\dot{\\beta}\\mathbf{j}_{B} + (\\Omega \\operatorname{cos}\\left(\\beta\\right) + 0)\\mathbf{k}_{B}$$"
       ],
       "metadata": {},
       "output_type": "pyout",
       "png": "[encoded data removed]",
       "prompt_number": 37,
       "text": [
        "\u239b           d    \u239e\n",
        "\u239c\u03a9\u22c5sin(\u03b2) + \u2500\u2500(0)\u239f\n",
        "\u239d           dt   \u23a0 \u001b[94m\u001b[1mb_x\u001b[0;0m\u001b[0;0m - \u03b2\u0307 \u001b[94m\u001b[1mb_y\u001b[0;0m\u001b[0;0m + \u239b           d    \u239e\n",
        "\u239c\u03a9\u22c5cos(\u03b2) + \u2500\u2500(0)\u239f\n",
        "\u239d           dt   \u23a0 \u001b[94m\u001b[1mb_z\u001b[0;0m\u001b[0;0m"
       ]
      }
     ],
     "prompt_number": 37
    },
    {
     "cell_type": "code",
     "collapsed": false,
     "input": [
      "_.doit()"
     ],
     "language": "python",
     "metadata": {},
     "outputs": [
      {
       "latex": [
        "$$\\Omega \\operatorname{sin}\\left(\\beta\\right)\\mathbf{i}_{B} -  \\dot{\\beta}\\mathbf{j}_{B} + \\Omega \\operatorname{cos}\\left(\\beta\\right)\\mathbf{k}_{B}$$"
       ],
       "metadata": {},
       "output_type": "pyout",
       "png": "[encoded data removed]",
       "prompt_number": 38,
       "text": [
        "\u03a9\u22c5sin(\u03b2) \u001b[94m\u001b[1mb_x\u001b[0;0m\u001b[0;0m - \u03b2\u0307 \u001b[94m\u001b[1mb_y\u001b[0;0m\u001b[0;0m + \u03a9\u22c5cos(\u03b2) \u001b[94m\u001b[1mb_z\u001b[0;0m\u001b[0;0m"
       ]
      }
     ],
     "prompt_number": 38
    },
    {
     "cell_type": "code",
     "collapsed": false,
     "input": [
      "h_B.express(B).subs({theta: 0, zeta: 0}).doit()"
     ],
     "language": "python",
     "metadata": {},
     "outputs": [
      {
       "latex": [
        "$$I_{\\theta} \\Omega \\operatorname{sin}\\left(\\beta\\right)\\mathbf{i}_{B} -  I_{\\beta} \\dot{\\beta}\\mathbf{j}_{B} + I_{\\zeta} \\Omega \\operatorname{cos}\\left(\\beta\\right)\\mathbf{k}_{B}$$"
       ],
       "metadata": {},
       "output_type": "pyout",
       "png": "[encoded data removed]",
       "prompt_number": 39,
       "text": [
        "I_\u03b8\u22c5\u03a9\u22c5sin(\u03b2) \u001b[94m\u001b[1mb_x\u001b[0;0m\u001b[0;0m - I\u1d66\u22c5\u03b2\u0307 \u001b[94m\u001b[1mb_y\u001b[0;0m\u001b[0;0m + I_\u03b6\u22c5\u03a9\u22c5cos(\u03b2) \u001b[94m\u001b[1mb_z\u001b[0;0m\u001b[0;0m"
       ]
      }
     ],
     "prompt_number": 39
    },
    {
     "cell_type": "code",
     "collapsed": false,
     "input": [
      "dh_B_dt"
     ],
     "language": "python",
     "metadata": {},
     "outputs": [
      {
       "latex": [
        "$$(- I_{\\beta} \\left(\\Omega \\left(- \\operatorname{sin}\\left(\\beta\\right) \\operatorname{sin}\\left(\\zeta\\left(t\\right)\\right) \\operatorname{cos}\\left(\\theta\\right) + \\operatorname{sin}\\left(\\theta\\right) \\operatorname{cos}\\left(\\beta\\right)\\right) + \\operatorname{sin}\\left(\\theta\\right) \\dot{\\zeta\\left(t\\right)} - \\operatorname{cos}\\left(\\theta\\right) \\operatorname{cos}\\left(\\zeta\\left(t\\right)\\right) \\dot{\\beta}\\right) \\left(\\left(\\operatorname{sin}\\left(\\beta\\right) \\operatorname{sin}\\left(\\theta\\right) \\operatorname{sin}\\left(\\zeta\\left(t\\right)\\right) + \\operatorname{cos}\\left(\\beta\\right) \\operatorname{cos}\\left(\\theta\\right)\\right) \\dot{\\psi} + \\operatorname{sin}\\left(\\theta\\right) \\operatorname{cos}\\left(\\zeta\\left(t\\right)\\right) \\dot{\\beta} + \\operatorname{cos}\\left(\\theta\\right) \\dot{\\zeta\\left(t\\right)}\\right) + I_{\\theta} \\left(- \\Omega \\operatorname{sin}\\left(\\beta\\right) \\operatorname{sin}\\left(\\zeta\\left(t\\right)\\right) \\dot{\\zeta\\left(t\\right)} + \\Omega \\operatorname{cos}\\left(\\beta\\right) \\operatorname{cos}\\left(\\zeta\\left(t\\right)\\right) \\dot{\\beta} - \\operatorname{sin}\\left(\\zeta\\left(t\\right)\\right) \\ddot{\\beta} - \\operatorname{cos}\\left(\\zeta\\left(t\\right)\\right) \\dot{\\beta} \\dot{\\zeta\\left(t\\right)} + \\ddot{\\theta}\\right) + I_{\\zeta} \\left(\\Omega \\left(\\operatorname{sin}\\left(\\beta\\right) \\operatorname{sin}\\left(\\theta\\right) \\operatorname{sin}\\left(\\zeta\\left(t\\right)\\right) + \\operatorname{cos}\\left(\\beta\\right) \\operatorname{cos}\\left(\\theta\\right)\\right) + \\operatorname{sin}\\left(\\theta\\right) \\operatorname{cos}\\left(\\zeta\\left(t\\right)\\right) \\dot{\\beta} + \\operatorname{cos}\\left(\\theta\\right) \\dot{\\zeta\\left(t\\right)}\\right) \\left(\\left(- \\operatorname{sin}\\left(\\beta\\right) \\operatorname{sin}\\left(\\zeta\\left(t\\right)\\right) \\operatorname{cos}\\left(\\theta\\right) + \\operatorname{sin}\\left(\\theta\\right) \\operatorname{cos}\\left(\\beta\\right)\\right) \\dot{\\psi} + \\operatorname{sin}\\left(\\theta\\right) \\dot{\\zeta\\left(t\\right)} - \\operatorname{cos}\\left(\\theta\\right) \\operatorname{cos}\\left(\\zeta\\left(t\\right)\\right) \\dot{\\beta}\\right))\\mathbf{i}_{B} + (I_{\\beta} \\left(\\Omega \\left(\\operatorname{sin}\\left(\\beta\\right) \\operatorname{sin}\\left(\\theta\\right) \\operatorname{sin}\\left(\\zeta\\left(t\\right)\\right) \\dot{\\theta} - \\operatorname{sin}\\left(\\beta\\right) \\operatorname{sin}\\left(\\theta\\right) \\dot{\\beta} - \\operatorname{sin}\\left(\\beta\\right) \\operatorname{cos}\\left(\\theta\\right) \\operatorname{cos}\\left(\\zeta\\left(t\\right)\\right) \\dot{\\zeta\\left(t\\right)} - \\operatorname{sin}\\left(\\zeta\\left(t\\right)\\right) \\operatorname{cos}\\left(\\beta\\right) \\operatorname{cos}\\left(\\theta\\right) \\dot{\\beta} + \\operatorname{cos}\\left(\\beta\\right) \\operatorname{cos}\\left(\\theta\\right) \\dot{\\theta}\\right) + \\operatorname{sin}\\left(\\theta\\right) \\operatorname{cos}\\left(\\zeta\\left(t\\right)\\right) \\dot{\\beta} \\dot{\\theta} + \\operatorname{sin}\\left(\\theta\\right) \\ddot{\\zeta\\left(t\\right)} + \\operatorname{sin}\\left(\\zeta\\left(t\\right)\\right) \\operatorname{cos}\\left(\\theta\\right) \\dot{\\beta} \\dot{\\zeta\\left(t\\right)} - \\operatorname{cos}\\left(\\theta\\right) \\operatorname{cos}\\left(\\zeta\\left(t\\right)\\right) \\ddot{\\beta} + \\operatorname{cos}\\left(\\theta\\right) \\dot{\\theta} \\dot{\\zeta\\left(t\\right)}\\right) + I_{\\theta} \\left(\\left(\\operatorname{sin}\\left(\\beta\\right) \\operatorname{sin}\\left(\\theta\\right) \\operatorname{sin}\\left(\\zeta\\left(t\\right)\\right) + \\operatorname{cos}\\left(\\beta\\right) \\operatorname{cos}\\left(\\theta\\right)\\right) \\dot{\\psi} + \\operatorname{sin}\\left(\\theta\\right) \\operatorname{cos}\\left(\\zeta\\left(t\\right)\\right) \\dot{\\beta} + \\operatorname{cos}\\left(\\theta\\right) \\dot{\\zeta\\left(t\\right)}\\right) \\left(\\Omega \\operatorname{sin}\\left(\\beta\\right) \\operatorname{cos}\\left(\\zeta\\left(t\\right)\\right) - \\operatorname{sin}\\left(\\zeta\\left(t\\right)\\right) \\dot{\\beta} + \\dot{\\theta}\\right) - I_{\\zeta} \\left(\\Omega \\left(\\operatorname{sin}\\left(\\beta\\right) \\operatorname{sin}\\left(\\theta\\right) \\operatorname{sin}\\left(\\zeta\\left(t\\right)\\right) + \\operatorname{cos}\\left(\\beta\\right) \\operatorname{cos}\\left(\\theta\\right)\\right) + \\operatorname{sin}\\left(\\theta\\right) \\operatorname{cos}\\left(\\zeta\\left(t\\right)\\right) \\dot{\\beta} + \\operatorname{cos}\\left(\\theta\\right) \\dot{\\zeta\\left(t\\right)}\\right) \\left(\\operatorname{sin}\\left(\\beta\\right) \\operatorname{cos}\\left(\\zeta\\left(t\\right)\\right) \\dot{\\psi} - \\operatorname{sin}\\left(\\zeta\\left(t\\right)\\right) \\dot{\\beta} + \\dot{\\theta}\\right))\\mathbf{j}_{B} + (I_{\\beta} \\left(\\Omega \\left(- \\operatorname{sin}\\left(\\beta\\right) \\operatorname{sin}\\left(\\zeta\\left(t\\right)\\right) \\operatorname{cos}\\left(\\theta\\right) + \\operatorname{sin}\\left(\\theta\\right) \\operatorname{cos}\\left(\\beta\\right)\\right) + \\operatorname{sin}\\left(\\theta\\right) \\dot{\\zeta\\left(t\\right)} - \\operatorname{cos}\\left(\\theta\\right) \\operatorname{cos}\\left(\\zeta\\left(t\\right)\\right) \\dot{\\beta}\\right) \\left(\\operatorname{sin}\\left(\\beta\\right) \\operatorname{cos}\\left(\\zeta\\left(t\\right)\\right) \\dot{\\psi} - \\operatorname{sin}\\left(\\zeta\\left(t\\right)\\right) \\dot{\\beta} + \\dot{\\theta}\\right) - I_{\\theta} \\left(\\left(- \\operatorname{sin}\\left(\\beta\\right) \\operatorname{sin}\\left(\\zeta\\left(t\\right)\\right) \\operatorname{cos}\\left(\\theta\\right) + \\operatorname{sin}\\left(\\theta\\right) \\operatorname{cos}\\left(\\beta\\right)\\right) \\dot{\\psi} + \\operatorname{sin}\\left(\\theta\\right) \\dot{\\zeta\\left(t\\right)} - \\operatorname{cos}\\left(\\theta\\right) \\operatorname{cos}\\left(\\zeta\\left(t\\right)\\right) \\dot{\\beta}\\right) \\left(\\Omega \\operatorname{sin}\\left(\\beta\\right) \\operatorname{cos}\\left(\\zeta\\left(t\\right)\\right) - \\operatorname{sin}\\left(\\zeta\\left(t\\right)\\right) \\dot{\\beta} + \\dot{\\theta}\\right) + I_{\\zeta} \\left(\\Omega \\left(\\operatorname{sin}\\left(\\beta\\right) \\operatorname{sin}\\left(\\theta\\right) \\operatorname{cos}\\left(\\zeta\\left(t\\right)\\right) \\dot{\\zeta\\left(t\\right)} + \\operatorname{sin}\\left(\\beta\\right) \\operatorname{sin}\\left(\\zeta\\left(t\\right)\\right) \\operatorname{cos}\\left(\\theta\\right) \\dot{\\theta} - \\operatorname{sin}\\left(\\beta\\right) \\operatorname{cos}\\left(\\theta\\right) \\dot{\\beta} + \\operatorname{sin}\\left(\\theta\\right) \\operatorname{sin}\\left(\\zeta\\left(t\\right)\\right) \\operatorname{cos}\\left(\\beta\\right) \\dot{\\beta} - \\operatorname{sin}\\left(\\theta\\right) \\operatorname{cos}\\left(\\beta\\right) \\dot{\\theta}\\right) - \\operatorname{sin}\\left(\\theta\\right) \\operatorname{sin}\\left(\\zeta\\left(t\\right)\\right) \\dot{\\beta} \\dot{\\zeta\\left(t\\right)} + \\operatorname{sin}\\left(\\theta\\right) \\operatorname{cos}\\left(\\zeta\\left(t\\right)\\right) \\ddot{\\beta} - \\operatorname{sin}\\left(\\theta\\right) \\dot{\\theta} \\dot{\\zeta\\left(t\\right)} + \\operatorname{cos}\\left(\\theta\\right) \\operatorname{cos}\\left(\\zeta\\left(t\\right)\\right) \\dot{\\beta} \\dot{\\theta} + \\operatorname{cos}\\left(\\theta\\right) \\ddot{\\zeta\\left(t\\right)}\\right))\\mathbf{k}_{B}$$"
       ],
       "metadata": {},
       "output_type": "pyout",
       "png": "[encoded data removed]",
       "prompt_number": 40,
       "text": [
        "(-I\u1d66\u22c5(\u03a9\u22c5(-sin(\u03b2)\u22c5sin(\u03b6)\u22c5cos(\u03b8) + sin(\u03b8)\u22c5cos(\u03b2)) + sin(\u03b8)\u22c5\u03b6\u0307 - cos(\u03b8)\u22c5cos(\u03b6)\u22c5\u03b2\u0307)\u22c5((sin(\u03b2)\u22c5sin(\u03b8)\u22c5sin(\u03b6) + cos(\u03b2)\u22c5cos(\u03b8))\u22c5\u03c8\u0307 + sin(\u03b8)\u22c5cos(\u03b6)\u22c5\u03b2\u0307 + cos(\u03b8)\u22c5\u03b6\u0307) + I_\u03b8\u22c5(-\u03a9\u22c5sin(\u03b2)\u22c5sin(\u03b6)\u22c5\u03b6\u0307 + \u03a9\u22c5cos(\u03b2)\u22c5cos(\u03b6)\u22c5\u03b2\u0307 - sin(\u03b6)\u22c5\u03b2\u0308 - cos(\u03b6)\u22c5\u03b2\u0307\u22c5\u03b6\u0307 + \u03b8\u0308) + I_\u03b6\u22c5(\u03a9\u22c5(sin(\u03b2)\u22c5sin(\u03b8)\u22c5sin(\u03b6) + cos(\u03b2)\u22c5cos(\u03b8)) + sin(\u03b8)\u22c5cos(\u03b6)\u22c5\u03b2\u0307 + cos(\u03b8)\u22c5\u03b6\u0307)\u22c5((-sin(\u03b2)\u22c5sin(\u03b6)\u22c5cos(\u03b8) + sin(\u03b8)\u22c5cos(\u03b2))\u22c5\u03c8\u0307 + sin(\u03b8)\u22c5\u03b6\u0307 - cos(\u03b8)\u22c5cos(\u03b6)\u22c5\u03b2\u0307)) \u001b[94m\u001b[1mb_x\u001b[0;0m\u001b[0;0m + (I\u1d66\u22c5(\u03a9\u22c5(sin(\u03b2)\u22c5sin(\u03b8)\u22c5sin(\u03b6)\u22c5\u03b8\u0307 - sin(\u03b2)\u22c5sin(\u03b8)\u22c5\u03b2\u0307 - sin(\u03b2)\u22c5cos(\u03b8)\u22c5cos(\u03b6)\u22c5\u03b6\u0307 - sin(\u03b6)\u22c5cos(\u03b2)\u22c5cos(\u03b8)\u22c5\u03b2\u0307 + cos(\u03b2)\u22c5cos(\u03b8)\u22c5\u03b8\u0307) + sin(\u03b8)\u22c5cos(\u03b6)\u22c5\u03b2\u0307\u22c5\u03b8\u0307 + sin(\u03b8)\u22c5\u03b6\u0308 + sin(\u03b6)\u22c5cos(\u03b8)\u22c5\u03b2\u0307\u22c5\u03b6\u0307 - cos(\u03b8)\u22c5cos(\u03b6)\u22c5\u03b2\u0308 + cos(\u03b8)\u22c5\u03b8\u0307\u22c5\u03b6\u0307) + I_\u03b8\u22c5((sin(\u03b2)\u22c5sin(\u03b8)\u22c5sin(\u03b6) + cos(\u03b2)\u22c5cos(\u03b8))\u22c5\u03c8\u0307 + sin(\u03b8)\u22c5cos(\u03b6)\u22c5\u03b2\u0307 + cos(\u03b8)\u22c5\u03b6\u0307)\u22c5(\u03a9\u22c5sin(\u03b2)\u22c5cos(\u03b6) - sin(\u03b6)\u22c5\u03b2\u0307 + \u03b8\u0307) - I_\u03b6\u22c5(\u03a9\u22c5(sin(\u03b2)\u22c5sin(\u03b8)\u22c5sin(\u03b6) + cos(\u03b2)\u22c5cos(\u03b8)) + sin(\u03b8)\u22c5cos(\u03b6)\u22c5\u03b2\u0307 + cos(\u03b8)\u22c5\u03b6\u0307)\u22c5(sin(\u03b2)\u22c5cos(\u03b6)\u22c5\u03c8\u0307 - sin(\u03b6)\u22c5\u03b2\u0307 + \u03b8\u0307)) \u001b[94m\u001b[1mb_y\u001b[0;0m\u001b[0;0m + (I\u1d66\u22c5(\u03a9\u22c5(-sin(\u03b2)\u22c5sin(\u03b6)\u22c5cos(\u03b8) + sin(\u03b8)\u22c5cos(\u03b2)) + sin(\u03b8)\u22c5\u03b6\u0307 - cos(\u03b8)\u22c5cos(\u03b6)\u22c5\u03b2\u0307)\u22c5(sin(\u03b2)\u22c5cos(\u03b6)\u22c5\u03c8\u0307 - sin(\u03b6)\u22c5\u03b2\u0307 + \u03b8\u0307) - I_\u03b8\u22c5((-sin(\u03b2)\u22c5sin(\u03b6)\u22c5cos(\u03b8) + sin(\u03b8)\u22c5cos(\u03b2))\u22c5\u03c8\u0307 + sin(\u03b8)\u22c5\u03b6\u0307 - cos(\u03b8)\u22c5cos(\u03b6)\u22c5\u03b2\u0307)\u22c5(\u03a9\u22c5sin(\u03b2)\u22c5cos(\u03b6) - sin(\u03b6)\u22c5\u03b2\u0307 + \u03b8\u0307) + I_\u03b6\u22c5(\u03a9\u22c5(sin(\u03b2)\u22c5sin(\u03b8)\u22c5cos(\u03b6)\u22c5\u03b6\u0307 + sin(\u03b2)\u22c5sin(\u03b6)\u22c5cos(\u03b8)\u22c5\u03b8\u0307 - sin(\u03b2)\u22c5cos(\u03b8)\u22c5\u03b2\u0307 + sin(\u03b8)\u22c5sin(\u03b6)\u22c5cos(\u03b2)\u22c5\u03b2\u0307 - sin(\u03b8)\u22c5cos(\u03b2)\u22c5\u03b8\u0307) - sin(\u03b8)\u22c5sin(\u03b6)\u22c5\u03b2\u0307\u22c5\u03b6\u0307 + sin(\u03b8)\u22c5cos(\u03b6)\u22c5\u03b2\u0308 - sin(\u03b8)\u22c5\u03b8\u0307\u22c5\u03b6\u0307 + cos(\u03b8)\u22c5cos(\u03b6)\u22c5\u03b2\u0307\u22c5\u03b8\u0307 + cos(\u03b8)\u22c5\u03b6\u0308)) \u001b[94m\u001b[1mb_z\u001b[0;0m\u001b[0;0m"
       ]
      }
     ],
     "prompt_number": 40
    },
    {
     "cell_type": "code",
     "collapsed": false,
     "input": [
      "(dh_B_dt.express(B)\n",
      "    .subs({\n",
      "           theta: 0,\n",
      "           zeta: 0,\n",
      "           psi.diff(): Omega,\n",
      "           psi.diff().diff(): 0,\n",
      "           I_zeta: I_theta + I_beta})\n",
      "    .doit()\n",
      "    .to_matrix(B)\n",
      "    .simplify()\n",
      "    .expand(trig=True))"
     ],
     "language": "python",
     "metadata": {},
     "outputs": [
      {
       "latex": [
        "$$\\left[\\begin{matrix}0\\\\- I_{\\beta} \\Omega^{2} \\sin{\\left (\\beta{\\left (t \\right )} \\right )} \\cos{\\left (\\beta{\\left (t \\right )} \\right )} - I_{\\beta} \\frac{d^{2}}{d t^{2}}  \\beta{\\left (t \\right )}\\\\- 2 I_{\\beta} \\Omega \\sin{\\left (\\beta{\\left (t \\right )} \\right )} \\frac{d}{d t} \\beta{\\left (t \\right )}\\end{matrix}\\right]$$"
       ],
       "metadata": {},
       "output_type": "pyout",
       "png": "[encoded data removed]",
       "prompt_number": 41,
       "text": [
        "\u23a1                    0                     \u23a4\n",
        "\u23a2                                          \u23a5\n",
        "\u23a2                                   2      \u23a5\n",
        "\u23a2      2                           d       \u23a5\n",
        "\u23a2- I\u1d66\u22c5\u03a9 \u22c5sin(\u03b2(t))\u22c5cos(\u03b2(t)) - I\u1d66\u22c5\u2500\u2500\u2500(\u03b2(t))\u23a5\n",
        "\u23a2                                   2      \u23a5\n",
        "\u23a2                                 dt       \u23a5\n",
        "\u23a2                                          \u23a5\n",
        "\u23a2                          d               \u23a5\n",
        "\u23a2        -2\u22c5I\u1d66\u22c5\u03a9\u22c5sin(\u03b2(t))\u22c5\u2500\u2500(\u03b2(t))        \u23a5\n",
        "\u23a3                          dt              \u23a6"
       ]
      }
     ],
     "prompt_number": 41
    },
    {
     "cell_type": "code",
     "collapsed": false,
     "input": [
      "EGB.cross(M_b * a_E).express(B).subs({theta: 0, zeta: 0}).doit()"
     ],
     "language": "python",
     "metadata": {},
     "outputs": [
      {
       "latex": [
        "$$-  M_{b} \\Omega^{2} e x_{GB} \\operatorname{sin}\\left(\\beta\\right)\\mathbf{j}_{B}$$"
       ],
       "metadata": {},
       "output_type": "pyout",
       "png": "[encoded data removed]",
       "prompt_number": 42,
       "text": [
        "      2              \n",
        "-M_b\u22c5\u03a9 \u22c5e\u22c5x_GB\u22c5sin(\u03b2) \u001b[94m\u001b[1mb_y\u001b[0;0m\u001b[0;0m"
       ]
      }
     ],
     "prompt_number": 42
    },
    {
     "cell_type": "code",
     "collapsed": false,
     "input": [
      "EGB.cross(M_b * (-g * A1.z)).express(B).subs({theta: 0, zeta: 0}).doit()"
     ],
     "language": "python",
     "metadata": {},
     "outputs": [
      {
       "latex": [
        "$$M_{b} g x_{GB} \\operatorname{cos}\\left(\\beta\\right)\\mathbf{j}_{B}$$"
       ],
       "metadata": {},
       "output_type": "pyout",
       "png": "[encoded data removed]",
       "prompt_number": 43,
       "text": [
        "M_b\u22c5g\u22c5x_GB\u22c5cos(\u03b2) \u001b[94m\u001b[1mb_y\u001b[0;0m\u001b[0;0m"
       ]
      }
     ],
     "prompt_number": 43
    },
    {
     "cell_type": "markdown",
     "metadata": {},
     "source": [
      "* **Nota1:** Si primero se sustituye y luego se cambia de sistema de referencia, las sustituciones no se actualizan.\n",
      "* **Nota2:** La \u00faltima llamada a `.doit()` es para que se simplifiquen expresiones del tipo `Derivative(0, t)`."
     ]
    },
    {
     "cell_type": "markdown",
     "metadata": {},
     "source": [
      "La ecuaci\u00f3n de momentos para la pala quedar\u00eda, por tanto:"
     ]
    },
    {
     "cell_type": "code",
     "collapsed": false,
     "input": [
      "MrxB, MrzB = symbols('M^r_xB, M^r_zB')\n",
      "k_beta = Symbol('k_beta')\n",
      "Mr = MrxB * B.x + k_beta * beta * B.y + MrzB * B.z\n",
      "Mr"
     ],
     "language": "python",
     "metadata": {},
     "outputs": [
      {
       "latex": [
        "$$M^{r}_{xB}\\mathbf{i}_{B} + k_{\\beta} \\beta\\mathbf{j}_{B} + M^{r}_{zB}\\mathbf{k}_{B}$$"
       ],
       "metadata": {},
       "output_type": "pyout",
       "png": "[encoded data removed]",
       "prompt_number": 44,
       "text": [
        "M_xB__r \u001b[94m\u001b[1mb_x\u001b[0;0m\u001b[0;0m + k\u1d66\u22c5\u03b2 \u001b[94m\u001b[1mb_y\u001b[0;0m\u001b[0;0m + M_zB__r \u001b[94m\u001b[1mb_z\u001b[0;0m\u001b[0;0m"
       ]
      }
     ],
     "prompt_number": 44
    },
    {
     "cell_type": "code",
     "collapsed": false,
     "input": [
      "lhs = Mr + EGB.cross(M_b * (-g * A1.z)).express(B).subs({theta: 0, zeta: 0}).doit()\n",
      "rhs = (dh_B_dt.express(B).subs({theta: 0, zeta: 0, psi.diff(): Omega, psi.diff().diff(): 0, I_zeta: I_theta + I_beta}).doit()\n",
      "       + EGB.cross(M_b * a_E).express(B).subs({theta: 0, zeta: 0}).doit())\n",
      "lhs.simplify()\n",
      "rhs.simplify()\n",
      "eqxB = Eq((lhs & B.x) - (rhs & B.x))\n",
      "eqxB"
     ],
     "language": "python",
     "metadata": {},
     "outputs": [
      {
       "latex": [
        "$$- I_{\\beta} \\Omega \\cos{\\left (\\beta{\\left (t \\right )} \\right )} \\frac{d}{d t} \\beta{\\left (t \\right )} - I_{\\theta} \\Omega \\cos{\\left (\\beta{\\left (t \\right )} \\right )} \\frac{d}{d t} \\beta{\\left (t \\right )} + M^{r}_{xB} + \\Omega \\left(I_{\\beta} + I_{\\theta}\\right) \\cos{\\left (\\beta{\\left (t \\right )} \\right )} \\frac{d}{d t} \\beta{\\left (t \\right )} = 0$$"
       ],
       "metadata": {},
       "output_type": "pyout",
       "png": "[encoded data removed]",
       "prompt_number": 45,
       "text": [
        "                 d                          d                                 \n",
        "- I\u1d66\u22c5\u03a9\u22c5cos(\u03b2(t))\u22c5\u2500\u2500(\u03b2(t)) - I_\u03b8\u22c5\u03a9\u22c5cos(\u03b2(t))\u22c5\u2500\u2500(\u03b2(t)) + M_xB__r + \u03a9\u22c5(I\u1d66 + I_\u03b8)\u22c5\n",
        "                 dt                         dt                                \n",
        "\n",
        "          d           \n",
        "cos(\u03b2(t))\u22c5\u2500\u2500(\u03b2(t)) = 0\n",
        "          dt          "
       ]
      }
     ],
     "prompt_number": 45
    },
    {
     "cell_type": "code",
     "collapsed": false,
     "input": [
      "eqyB = Eq(expand_trig(collect((lhs & B.y) - (rhs & B.y), I_beta)))\n",
      "eqyB"
     ],
     "language": "python",
     "metadata": {},
     "outputs": [
      {
       "latex": [
        "$$I_{\\beta} \\frac{d^{2}}{d t^{2}}  \\beta{\\left (t \\right )} - I_{\\theta} \\Omega^{2} \\sin{\\left (\\beta{\\left (t \\right )} \\right )} \\cos{\\left (\\beta{\\left (t \\right )} \\right )} + M_{b} \\Omega^{2} e x_{GB} \\sin{\\left (\\beta{\\left (t \\right )} \\right )} + M_{b} g x_{GB} \\cos{\\left (\\beta{\\left (t \\right )} \\right )} + \\Omega^{2} \\left(I_{\\beta} + I_{\\theta}\\right) \\sin{\\left (\\beta{\\left (t \\right )} \\right )} \\cos{\\left (\\beta{\\left (t \\right )} \\right )} + k_{\\beta} \\beta{\\left (t \\right )} = 0$$"
       ],
       "metadata": {},
       "output_type": "pyout",
       "png": "[encoded data removed]",
       "prompt_number": 46,
       "text": [
        "     2                                                                        \n",
        "    d               2                            2                            \n",
        "I\u1d66\u22c5\u2500\u2500\u2500(\u03b2(t)) - I_\u03b8\u22c5\u03a9 \u22c5sin(\u03b2(t))\u22c5cos(\u03b2(t)) + M_b\u22c5\u03a9 \u22c5e\u22c5x_GB\u22c5sin(\u03b2(t)) + M_b\u22c5g\u22c5x_\n",
        "     2                                                                        \n",
        "   dt                                                                         \n",
        "\n",
        "                                                              \n",
        "                2                                             \n",
        "GB\u22c5cos(\u03b2(t)) + \u03a9 \u22c5(I\u1d66 + I_\u03b8)\u22c5sin(\u03b2(t))\u22c5cos(\u03b2(t)) + k\u1d66\u22c5\u03b2(t) = 0\n",
        "                                                              \n",
        "                                                              "
       ]
      }
     ],
     "prompt_number": 46
    },
    {
     "cell_type": "code",
     "collapsed": false,
     "input": [
      "eqzB = Eq((lhs & B.z) - (rhs & B.z))\n",
      "eqzB"
     ],
     "language": "python",
     "metadata": {},
     "outputs": [
      {
       "latex": [
        "$$I_{\\beta} \\Omega \\sin{\\left (\\beta{\\left (t \\right )} \\right )} \\frac{d}{d t} \\beta{\\left (t \\right )} - I_{\\theta} \\Omega \\sin{\\left (\\beta{\\left (t \\right )} \\right )} \\frac{d}{d t} \\beta{\\left (t \\right )} + M^{r}_{zB} + \\Omega \\left(I_{\\beta} + I_{\\theta}\\right) \\sin{\\left (\\beta{\\left (t \\right )} \\right )} \\frac{d}{d t} \\beta{\\left (t \\right )} = 0$$"
       ],
       "metadata": {},
       "output_type": "pyout",
       "png": "[encoded data removed]",
       "prompt_number": 47,
       "text": [
        "               d                          d                                   \n",
        "I\u1d66\u22c5\u03a9\u22c5sin(\u03b2(t))\u22c5\u2500\u2500(\u03b2(t)) - I_\u03b8\u22c5\u03a9\u22c5sin(\u03b2(t))\u22c5\u2500\u2500(\u03b2(t)) + M_zB__r + \u03a9\u22c5(I\u1d66 + I_\u03b8)\u22c5si\n",
        "               dt                         dt                                  \n",
        "\n",
        "        d           \n",
        "n(\u03b2(t))\u22c5\u2500\u2500(\u03b2(t)) = 0\n",
        "        dt          "
       ]
      }
     ],
     "prompt_number": 47
    },
    {
     "cell_type": "markdown",
     "metadata": {},
     "source": [
      "Si tomamos la ecuaci\u00f3n en $y_B$ y linealizamos teniendo en cuenta $|\\beta(t)| \\ll 1$:"
     ]
    },
    {
     "cell_type": "code",
     "collapsed": false,
     "input": [
      "beta_ = Dummy('beta')\n",
      "eqyB_lin = Eq((eqyB.lhs\n",
      "               .subs(beta, beta_)\n",
      "               .series(beta_, n=2)\n",
      "               .removeO()\n",
      "               .subs(beta_, beta)\n",
      "               / I_beta)\n",
      "              .expand()\n",
      "              .collect(beta))\n",
      "eqyB_lin"
     ],
     "language": "python",
     "metadata": {},
     "outputs": [
      {
       "latex": [
        "$$\\left(\\Omega^{2} + \\frac{M_{b} e}{I_{\\beta}} \\Omega^{2} x_{GB} + \\frac{k_{\\beta}}{I_{\\beta}}\\right) \\beta{\\left (t \\right )} + \\frac{d^{2}}{d t^{2}}  \\beta{\\left (t \\right )} + \\frac{M_{b} g}{I_{\\beta}} x_{GB} = 0$$"
       ],
       "metadata": {},
       "output_type": "pyout",
       "png": "[encoded data removed]",
       "prompt_number": 48,
       "text": [
        "\u239b          2            \u239e          2                       \n",
        "\u239c 2   M_b\u22c5\u03a9 \u22c5e\u22c5x_GB   k\u1d66\u239f         d          M_b\u22c5g\u22c5x_GB    \n",
        "\u239c\u03a9  + \u2500\u2500\u2500\u2500\u2500\u2500\u2500\u2500\u2500\u2500\u2500\u2500\u2500 + \u2500\u2500\u239f\u22c5\u03b2(t) + \u2500\u2500\u2500(\u03b2(t)) + \u2500\u2500\u2500\u2500\u2500\u2500\u2500\u2500\u2500\u2500 = 0\n",
        "\u239d           I\u1d66        I\u1d66\u23a0          2             I\u1d66        \n",
        "                                 dt                        "
       ]
      }
     ],
     "prompt_number": 48
    },
    {
     "cell_type": "markdown",
     "metadata": {},
     "source": [
      "En general, el t\u00e9rmino gravitatorio es despreciable frente al t\u00e9rmino centr\u00edfugo:"
     ]
    },
    {
     "cell_type": "code",
     "collapsed": false,
     "input": [
      "assert eqyB_lin.lhs.is_Add\n",
      "# Filtramos t\u00e9rmino gravitatorio\n",
      "args = [add for add in eqyB_lin.lhs.args if not add.has(g)]\n",
      "# Reconstruimos la ecuaci\u00f3n\n",
      "eqyB_lin = Eq(eqyB_lin.lhs.func(*args))\n",
      "eqyB_lin"
     ],
     "language": "python",
     "metadata": {},
     "outputs": [
      {
       "latex": [
        "$$\\left(\\Omega^{2} + \\frac{M_{b} e}{I_{\\beta}} \\Omega^{2} x_{GB} + \\frac{k_{\\beta}}{I_{\\beta}}\\right) \\beta{\\left (t \\right )} + \\frac{d^{2}}{d t^{2}}  \\beta{\\left (t \\right )} = 0$$"
       ],
       "metadata": {},
       "output_type": "pyout",
       "png": "[encoded data removed]",
       "prompt_number": 49,
       "text": [
        "\u239b          2            \u239e          2          \n",
        "\u239c 2   M_b\u22c5\u03a9 \u22c5e\u22c5x_GB   k\u1d66\u239f         d           \n",
        "\u239c\u03a9  + \u2500\u2500\u2500\u2500\u2500\u2500\u2500\u2500\u2500\u2500\u2500\u2500\u2500 + \u2500\u2500\u239f\u22c5\u03b2(t) + \u2500\u2500\u2500(\u03b2(t)) = 0\n",
        "\u239d           I\u1d66        I\u1d66\u23a0          2          \n",
        "                                 dt           "
       ]
      }
     ],
     "prompt_number": 49
    },
    {
     "cell_type": "markdown",
     "metadata": {},
     "source": [
      "Vamos a manipular convenientemente el lado izquierdo de la ecuaci\u00f3n para sacar factor com\u00fan $\\Omega^2$:"
     ]
    },
    {
     "cell_type": "code",
     "collapsed": false,
     "input": [
      "eqyB_lin = Eq((eqyB_lin.lhs / Omega ** 2)\n",
      "              .expand()\n",
      "              .collect(beta)\n",
      "              * Omega ** 2)\n",
      "\n",
      "assert eqyB_lin.lhs.is_Mul\n",
      "for factor in eqyB_lin.lhs.args:\n",
      "    if factor.is_Add:\n",
      "        adds = factor.args\n",
      "    else:\n",
      "        mul = factor\n",
      "\n",
      "eqyB_lin = Eq(mul * adds[0] + mul * adds[1])\n",
      "eqyB_lin"
     ],
     "language": "python",
     "metadata": {},
     "outputs": [
      {
       "latex": [
        "$$\\Omega^{2} \\left(1 + \\frac{M_{b} e}{I_{\\beta}} x_{GB} + \\frac{k_{\\beta}}{I_{\\beta} \\Omega^{2}}\\right) \\beta{\\left (t \\right )} + \\frac{d^{2}}{d t^{2}}  \\beta{\\left (t \\right )} = 0$$"
       ],
       "metadata": {},
       "output_type": "pyout",
       "png": "[encoded data removed]",
       "prompt_number": 50,
       "text": [
        "                                     2          \n",
        " 2 \u239b    M_b\u22c5e\u22c5x_GB     k\u1d66 \u239e         d           \n",
        "\u03a9 \u22c5\u239c1 + \u2500\u2500\u2500\u2500\u2500\u2500\u2500\u2500\u2500\u2500 + \u2500\u2500\u2500\u2500\u2500\u239f\u22c5\u03b2(t) + \u2500\u2500\u2500(\u03b2(t)) = 0\n",
        "   \u239c        I\u1d66           2\u239f          2          \n",
        "   \u239d                 I\u1d66\u22c5\u03a9 \u23a0        dt           "
       ]
      }
     ],
     "prompt_number": 50
    },
    {
     "cell_type": "markdown",
     "metadata": {},
     "source": [
      "Y ahora sustituyo:"
     ]
    },
    {
     "cell_type": "code",
     "collapsed": false,
     "input": [
      "Omega_beta = Symbol('Omega_beta')\n",
      "eqyB_lin = Eq(eqyB_lin.lhs.subs(\n",
      "    Omega * sqrt(1 + M_b * e * x_GB / I_beta + k_beta / (I_beta * Omega ** 2)),\n",
      "    Omega_beta))\n",
      "eqyB_lin"
     ],
     "language": "python",
     "metadata": {},
     "outputs": [
      {
       "latex": [
        "$$\\Omega_{\\beta}^{2} \\beta{\\left (t \\right )} + \\frac{d^{2}}{d t^{2}}  \\beta{\\left (t \\right )} = 0$$"
       ],
       "metadata": {},
       "output_type": "pyout",
       "png": "[encoded data removed]",
       "prompt_number": 51,
       "text": [
        "             2          \n",
        "  2         d           \n",
        "\u03a9\u1d66 \u22c5\u03b2(t) + \u2500\u2500\u2500(\u03b2(t)) = 0\n",
        "             2          \n",
        "           dt           "
       ]
      }
     ],
     "prompt_number": 51
    },
    {
     "cell_type": "markdown",
     "metadata": {},
     "source": [
      "Esta es la **ecuaci\u00f3n diferencial de batimiento en vac\u00edo**, donde $\\Omega_{\\beta} = \\Omega \\sqrt{1 + \\frac{M_{b} e}{I_{\\beta}} x_{GB} + \\frac{k_{\\beta}}{I_{\\beta} \\Omega^{2}}}$."
     ]
    },
    {
     "cell_type": "heading",
     "level": 2,
     "metadata": {},
     "source": [
      "Ap\u00e9ndice: Mejoras en SymPy"
     ]
    },
    {
     "cell_type": "markdown",
     "metadata": {},
     "source": [
      "**Nota:** No se pueden definir ecuaciones vectoriales."
     ]
    },
    {
     "cell_type": "code",
     "collapsed": false,
     "input": [
      "try:\n",
      "    Eq(Omega * A.z, 3 * A.z)\n",
      "except Exception as e:\n",
      "    print(e)"
     ],
     "language": "python",
     "metadata": {},
     "outputs": [
      {
       "output_type": "stream",
       "stream": "stdout",
       "text": [
        "SympifyError: Omega*A.z\n"
       ]
      }
     ],
     "prompt_number": 52
    },
    {
     "cell_type": "markdown",
     "metadata": {},
     "source": [
      "**Issue:** \u00bfFuncionamiento extra\u00f1o? Yo esperar\u00eda que `Eq(a, 1) + 1 == Eq(a + 1, 2)`. Issue #2646 https://github.com/sympy/sympy/issues/2646"
     ]
    },
    {
     "cell_type": "code",
     "collapsed": false,
     "input": [
      "from sympy.abc import a\n",
      "Eq(a, 1)"
     ],
     "language": "python",
     "metadata": {},
     "outputs": [
      {
       "latex": [
        "$$a = 1$$"
       ],
       "metadata": {},
       "output_type": "pyout",
       "png": "[encoded data removed]",
       "prompt_number": 53,
       "text": [
        "a = 1"
       ]
      }
     ],
     "prompt_number": 53
    },
    {
     "cell_type": "code",
     "collapsed": false,
     "input": [
      "Eq(a, 1) + 1"
     ],
     "language": "python",
     "metadata": {},
     "outputs": [
      {
       "latex": [
        "$$1 + a = 1$$"
       ],
       "metadata": {},
       "output_type": "pyout",
       "png": "[encoded data removed]",
       "prompt_number": 54,
       "text": [
        "1 + a = 1"
       ]
      }
     ],
     "prompt_number": 54
    },
    {
     "cell_type": "markdown",
     "metadata": {},
     "source": [
      "Si utilizo un objeto `RigidBody` para definir la pala y calcular el momento cin\u00e9tico, los resultados no son tan \u00fatiles."
     ]
    },
    {
     "cell_type": "code",
     "collapsed": false,
     "input": [
      "from sympy.physics.mechanics import RigidBody"
     ],
     "language": "python",
     "metadata": {},
     "outputs": [],
     "prompt_number": 55
    },
    {
     "cell_type": "markdown",
     "metadata": {},
     "source": [
      "Definimos la pala como un `RigidBody` de centro $GB$, sistema de referencia fijo $B$, masa $M_b$ e inercia $I_B$ alrededor de $E$."
     ]
    },
    {
     "cell_type": "code",
     "collapsed": false,
     "input": [
      "Pala = RigidBody('Pala', GB, B, M_b, [I_B, E])"
     ],
     "language": "python",
     "metadata": {},
     "outputs": [],
     "prompt_number": 56
    },
    {
     "cell_type": "markdown",
     "metadata": {},
     "source": [
      "SymPy calcula el tensor central de inercia autom\u00e1ticamente:"
     ]
    },
    {
     "cell_type": "code",
     "collapsed": false,
     "input": [
      "Pala.central_inertia"
     ],
     "language": "python",
     "metadata": {},
     "outputs": [
      {
       "latex": [
        "$$I_{\\theta}\\mathbf{i}_{B}\\otimes \\mathbf{i}_{B} + (I_{\\beta} - M_{b} x_{GB}^{2})\\mathbf{j}_{B}\\otimes \\mathbf{j}_{B} + (I_{\\zeta} - M_{b} x_{GB}^{2})\\mathbf{k}_{B}\\otimes \\mathbf{k}_{B}$$"
       ],
       "metadata": {},
       "output_type": "pyout",
       "png": "[encoded data removed]",
       "prompt_number": 57,
       "text": [
        "I_\u03b8 \u001b[94m\u001b[1mb_x\u001b[0;0m\u001b[0;0m\u2297\u001b[94m\u001b[1mb_x\u001b[0;0m\u001b[0;0m + \u239b             2\u239e\n",
        "\u239dI\u1d66 - M_b\u22c5x_GB \u23a0 \u001b[94m\u001b[1mb_y\u001b[0;0m\u001b[0;0m\u2297\u001b[94m\u001b[1mb_y\u001b[0;0m\u001b[0;0m + \u239b              2\u239e\n",
        "\u239dI_\u03b6 - M_b\u22c5x_GB \u23a0 \u001b[94m\u001b[1mb_z\u001b[0;0m\u001b[0;0m\u2297\u001b[94m\u001b[1mb_z\u001b[0;0m\u001b[0;0m"
       ]
      }
     ],
     "prompt_number": 57
    },
    {
     "cell_type": "code",
     "collapsed": false,
     "input": [
      "E.set_vel(A, E.v2pt_theory(O, A, A1))\n",
      "Pala.angular_momentum(E, A)  # \u00bfQu\u00e9 estoy intentando hallar?"
     ],
     "language": "python",
     "metadata": {},
     "outputs": [
      {
       "latex": [
        "$$I_{\\theta} \\left(\\operatorname{sin}\\left(\\beta\\right) \\operatorname{cos}\\left(\\zeta\\left(t\\right)\\right) \\dot{\\psi} - \\operatorname{sin}\\left(\\zeta\\left(t\\right)\\right) \\dot{\\beta} + \\dot{\\theta}\\right)\\mathbf{i}_{B} + (M_{b} e x_{GB} \\operatorname{sin}\\left(\\theta\\right) \\operatorname{cos}\\left(\\zeta\\left(t\\right)\\right) \\dot{\\psi} + \\left(I_{\\beta} - M_{b} x_{GB}^{2}\\right) \\left(\\left(- \\operatorname{sin}\\left(\\beta\\right) \\operatorname{sin}\\left(\\zeta\\left(t\\right)\\right) \\operatorname{cos}\\left(\\theta\\right) + \\operatorname{sin}\\left(\\theta\\right) \\operatorname{cos}\\left(\\beta\\right)\\right) \\dot{\\psi} + \\operatorname{sin}\\left(\\theta\\right) \\dot{\\zeta\\left(t\\right)} - \\operatorname{cos}\\left(\\theta\\right) \\operatorname{cos}\\left(\\zeta\\left(t\\right)\\right) \\dot{\\beta}\\right))\\mathbf{j}_{B} + (M_{b} e x_{GB} \\operatorname{cos}\\left(\\theta\\right) \\operatorname{cos}\\left(\\zeta\\left(t\\right)\\right) \\dot{\\psi} + \\left(I_{\\zeta} - M_{b} x_{GB}^{2}\\right) \\left(\\left(\\operatorname{sin}\\left(\\beta\\right) \\operatorname{sin}\\left(\\theta\\right) \\operatorname{sin}\\left(\\zeta\\left(t\\right)\\right) + \\operatorname{cos}\\left(\\beta\\right) \\operatorname{cos}\\left(\\theta\\right)\\right) \\dot{\\psi} + \\operatorname{sin}\\left(\\theta\\right) \\operatorname{cos}\\left(\\zeta\\left(t\\right)\\right) \\dot{\\beta} + \\operatorname{cos}\\left(\\theta\\right) \\dot{\\zeta\\left(t\\right)}\\right))\\mathbf{k}_{B}$$"
       ],
       "metadata": {},
       "output_type": "pyout",
       "png": "[encoded data removed]",
       "prompt_number": 58,
       "text": [
        "I_\u03b8\u22c5(sin(\u03b2)\u22c5cos(\u03b6)\u22c5\u03c8\u0307 - sin(\u03b6)\u22c5\u03b2\u0307 + \u03b8\u0307) \u001b[94m\u001b[1mb_x\u001b[0;0m\u001b[0;0m + \u239b                              \u239b             2\u239e                                                                            \u239e\n",
        "\u239dM_b\u22c5e\u22c5x_GB\u22c5sin(\u03b8)\u22c5cos(\u03b6)\u22c5\u03c8\u0307 + \u239dI\u1d66 - M_b\u22c5x_GB \u23a0\u22c5((-sin(\u03b2)\u22c5sin(\u03b6)\u22c5cos(\u03b8) + sin(\u03b8)\u22c5cos(\u03b2))\u22c5\u03c8\u0307 + sin(\u03b8)\u22c5\u03b6\u0307 - cos(\u03b8)\u22c5cos(\u03b6)\u22c5\u03b2\u0307)\u23a0 \u001b[94m\u001b[1mb_y\u001b[0;0m\u001b[0;0m + \u239b                              \u239b              2\u239e                                                                           \u239e\n",
        "\u239dM_b\u22c5e\u22c5x_GB\u22c5cos(\u03b8)\u22c5cos(\u03b6)\u22c5\u03c8\u0307 + \u239dI_\u03b6 - M_b\u22c5x_GB \u23a0\u22c5((sin(\u03b2)\u22c5sin(\u03b8)\u22c5sin(\u03b6) + cos(\u03b2)\u22c5cos(\u03b8))\u22c5\u03c8\u0307 + sin(\u03b8)\u22c5cos(\u03b6)\u22c5\u03b2\u0307 + cos(\u03b8)\u22c5\u03b6\u0307)\u23a0 \u001b[94m\u001b[1mb_z\u001b[0;0m\u001b[0;0m"
       ]
      }
     ],
     "prompt_number": 58
    },
    {
     "cell_type": "markdown",
     "metadata": {},
     "source": [
      "Pero al calcular el momento cin\u00e9tico, SymPy no aprovecha el hecho de que el punto $E$ es fijo en el sistema $B$. Adem\u00e1s, he tenido que definir expl\u00edcitamente la velocidad del punto $E$ en el sistema de referencia $A$."
     ]
    },
    {
     "cell_type": "markdown",
     "metadata": {},
     "source": [
      "Otros:\n",
      "\n",
      "* Si no se conoce la velocidad del punto, \u00bfhay alguna manera de calcularla autom\u00e1ticamente? As\u00ed no tengo que definir velocidades.\n",
      "* Para lo anterior, puede ser \u00fatil tener la noci\u00f3n de `Origin` de un `ReferenceFrame`.\n",
      "* Ahora mismo los `Point` est\u00e1n un poco desligados de los `ReferenceFrame` en s\u00ed, y esto choca con la intuici\u00f3n al principio. \u00bfNo ser\u00eda m\u00e1s apropiado definir la posici\u00f3n de un punto en un determinado sistema de referencia, en lugar de la velocidad?\n",
      "* Para el momento cin\u00e9tico (`angular_momentum`) hay expresiones m\u00e1s inteligentes si el s\u00f3lido tiene un punto fijo. \u00bfEsto se puede detectar, o al menos dar una forma de pedirlo expl\u00edcitamente?"
     ]
    }
   ],
   "metadata": {}
  }
 ]
}